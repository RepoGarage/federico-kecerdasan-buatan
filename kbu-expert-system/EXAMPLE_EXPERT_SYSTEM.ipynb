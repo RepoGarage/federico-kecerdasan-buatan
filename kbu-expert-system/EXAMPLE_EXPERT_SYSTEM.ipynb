{
  "cells": [
    {
      "cell_type": "markdown",
      "source": [
        "# Kecerdasan Buatan - Example Expert System"
      ],
      "metadata": {
        "id": "avOd0cSGsZuW"
      }
    },
    {
      "cell_type": "markdown",
      "source": [
        "## Federico Matthew Pratama"
      ],
      "metadata": {
        "id": "d27e3dQSsdiL"
      }
    },
    {
      "cell_type": "markdown",
      "source": [
        "Berikut merupakan Contoh Code menggunakan Google Colab :"
      ],
      "metadata": {
        "id": "CqFGVXwMsk2J"
      }
    },
    {
      "cell_type": "markdown",
      "source": [
        "Apabila ingin menggunakan dari Swish GUI langsung, dapat diakses link dibawah ini:\n",
        "\n",
        "[SWISH GUI](https://swish.swi-prolog.org/p/EXAMPLE_EXPERT_SYSTEM.pl)"
      ],
      "metadata": {
        "id": "ClUBe9Yxsosd"
      }
    },
    {
      "cell_type": "markdown",
      "source": [
        "Pertama lakukan instalasi dependensi yang diperlukan, yaitu :"
      ],
      "metadata": {
        "id": "sqP6ZP72thDM"
      }
    },
    {
      "cell_type": "code",
      "execution_count": null,
      "metadata": {
        "id": "WfJm71M0nD7W"
      },
      "outputs": [],
      "source": [
        "!pip install pyswip\n",
        "!apt update\n",
        "!apt install swi-prolog-nox -y"
      ]
    },
    {
      "cell_type": "markdown",
      "source": [
        "`pip install pyswip`\n",
        "\n",
        "Menginstall binding Python untuk SWI-Prolog.\n",
        "\n",
        "`apt update`\n",
        "\n",
        "Memperbarui daftar package pada sistem.\n",
        "\n",
        "`apt install swi-prolog-nox -y`\n",
        "\n",
        "Menginstall SWI-Prolog yang dibutuhkan oleh pyswip untuk menjalankan kode Prolog."
      ],
      "metadata": {
        "id": "fw0_aAZrs_Le"
      }
    },
    {
      "cell_type": "markdown",
      "source": [
        "Setelah instalasi selesai, lakukan import dan inisialisasi library di script Python:"
      ],
      "metadata": {
        "id": "vDyT8nJStZyK"
      }
    },
    {
      "cell_type": "code",
      "execution_count": null,
      "metadata": {
        "id": "kOOJqjhHrqQG"
      },
      "outputs": [],
      "source": [
        "from pyswip import Prolog\n",
        "prolog = Prolog()\n",
        "prolog.consult(\"animal.pl\")"
      ]
    },
    {
      "cell_type": "markdown",
      "source": [
        "`from pyswip import Prolog`\n",
        "\n",
        "Mengimpor kelas Prolog dari library pyswip agar dapat menjalankan perintah Prolog di Python.\n",
        "\n",
        "`prolog = Prolog()`\n",
        "Membuat objek Prolog yang akan digunakan untuk menjalankan query dan konsultasi file Prolog.\n",
        "\n",
        "`prolog.consult(\"animal.pl\")`\n",
        "\n",
        "Mengkonsultasikan/memuat file Prolog (misal: animal.pl) ke dalam sesi Prolog sehingga kamu bisa melakukan query terhadap fakta dan aturan di file tersebut."
      ],
      "metadata": {
        "id": "9aZdVObxuYFu"
      }
    },
    {
      "cell_type": "markdown",
      "source": [
        "Berikut merupakan Kode Utama dari Contoh Expert System"
      ],
      "metadata": {
        "id": "pbZdx_H4vZ8Y"
      }
    },
    {
      "cell_type": "code",
      "execution_count": null,
      "metadata": {
        "id": "ISM-B6V9njSl",
        "colab": {
          "base_uri": "https://localhost:8080/"
        },
        "outputId": "fe944a17-298d-46b6-a7fd-b056f7880f16"
      },
      "outputs": [
        {
          "output_type": "stream",
          "name": "stdout",
          "text": [
            "Overwriting animal.pl\n"
          ]
        }
      ],
      "source": [
        "%%writefile animal.pl\n",
        "/* animal.pl - Tebak hewan - mulai dengan ?- go. */\n",
        "\n",
        "go :- hypothesize(Animal),\n",
        "      write('Saya menebak bahwa hewannya adalah: '),\n",
        "      write(Animal),\n",
        "      nl,\n",
        "      undo.\n",
        "\n",
        "hypothesize(kucing)         :- kucing, !.\n",
        "hypothesize(anjing)         :- anjing, !.\n",
        "hypothesize(elang)          :- elang, !.\n",
        "hypothesize(ikan_lumba_lumba):- ikan_lumba_lumba, !.\n",
        "hypothesize(singa)          :- singa, !.\n",
        "hypothesize(ayam)           :- ayam, !.\n",
        "hypothesize(kangguru)       :- kangguru, !.\n",
        "hypothesize(tidak_diketahui).\n",
        "\n",
        "kucing :- mammal,\n",
        "          verify(mengeong),\n",
        "          verify(suka_mengejar_tikus),\n",
        "          verify(berbulu_lembut).\n",
        "\n",
        "anjing :- mammal,\n",
        "          verify(menggonggong),\n",
        "          verify(setia),\n",
        "          verify(berkaki_empat).\n",
        "\n",
        "elang :- bird,\n",
        "         verify(terbang_tinggi),\n",
        "         verify(pemakan_daging),\n",
        "         verify(mata_tajam).\n",
        "\n",
        "ikan_lumba_lumba :- mammal,\n",
        "                    verify(hidup_di_air),\n",
        "                    verify(pintar),\n",
        "                    verify(berenang_cepat).\n",
        "\n",
        "singa :- mammal,\n",
        "         verify(raja_rimba),\n",
        "         verify(mengaum),\n",
        "         verify(pemakan_daging).\n",
        "\n",
        "ayam :- bird,\n",
        "        verify(bertelur),\n",
        "        verify(tidak_bisa_terbang_jauh),\n",
        "        verify(berkokok).\n",
        "\n",
        "kangguru :- mammal,\n",
        "            verify(berkantung),\n",
        "            verify(berkaki_dua),\n",
        "            verify(melompat).\n",
        "\n",
        "mammal :- verify(berbulu), !.\n",
        "mammal :- verify(menyusui_anaknya).\n",
        "\n",
        "bird :- verify(bertelur), verify(berbulu), !.\n",
        "\n",
        "ask(Pertanyaan) :-\n",
        "    write('Apakah hewan memiliki sifat berikut: '),\n",
        "    write(Pertanyaan),\n",
        "    write('? (yes/no) '),\n",
        "    read(Jawaban),\n",
        "    nl,\n",
        "    ((Jawaban == yes ; Jawaban == y)\n",
        "        -> assert(yes(Pertanyaan)) ;\n",
        "           assert(no(Pertanyaan)), fail).\n",
        "\n",
        ":- dynamic yes/1,no/1.\n",
        "\n",
        "verify(X) :-\n",
        "    (yes(X) -> true ;\n",
        "     (no(X) -> fail ;\n",
        "      ask(X))).\n",
        "\n",
        "undo :- retract(yes(_)), fail.\n",
        "undo :- retract(no(_)), fail.\n",
        "undo."
      ]
    },
    {
      "cell_type": "markdown",
      "source": [
        "Setelah memastikan file animal.pl sudah dibuat dan berisi kode Prolog yang benar, jalankan perintah berikut untuk memulai program SWI-Prolog dan mengkonsultasikan file tersebut:"
      ],
      "metadata": {
        "id": "pUGSywkvve8K"
      }
    },
    {
      "cell_type": "markdown",
      "source": [
        "Catatan :            \n",
        "\n",
        "Pada saat program dimulai, isi label pertama dengan `go.`\n",
        "\n",
        "Akan muncul sebuah pertanyaan dengan jawaban `yes` atau `no`.\n",
        "\n",
        "Untuk menjawab tiap pertanyaan, harus menambahkan tanda titik `.` di setiap jawaban.\n",
        "\n",
        "Contoh, jangan gunakan `yes` namun gunakan `yes.`\n",
        "\n",
        "Hal ini dikarenakan Google Colab (atau Jupyter Notebook) hanya akan mengirim perintah ke Prolog setelah mendeteksi akhir perintah, yang ditandai dengan tanda titik `.` dan diikuti Enter.\n",
        "\n",
        "Jika Anda lupa menambahkan titik, Prolog akan menunggu input lanjutan dan tidak memproses jawaban Anda.\n",
        "\n",
        "Jika inputan Prolog di Google Colab muncul sebagai label Password, itu karena Colab tidak mendukung input interaktif biasa.\n",
        "\n",
        "Jadi, setiap kali Prolog meminta input (misal: `yes` atau `no`), Colab akan menampilkan kotak input bertuliskan Password.\n",
        "\n",
        "Abaikan labelnya, isi jawaban sesuai instruksi, lalu tekan Enter. Selalu tambahkan titik di akhir jawaban (misal: `yes`. atau `no`.)."
      ],
      "metadata": {
        "id": "Q0U0TbeIvv0S"
      }
    },
    {
      "cell_type": "markdown",
      "source": [
        "Untuk contoh Running code dapat diakses pada dibawah ini :"
      ],
      "metadata": {
        "id": "cvH9p-ZkwQSi"
      }
    },
    {
      "cell_type": "code",
      "execution_count": null,
      "metadata": {
        "colab": {
          "base_uri": "https://localhost:8080/"
        },
        "id": "Z2kozO6QnnU6",
        "outputId": "edd91b1c-fd7e-46bb-ed33-76345dc37f45"
      },
      "outputs": [
        {
          "output_type": "stream",
          "name": "stdout",
          "text": [
            "Welcome to SWI-Prolog (threaded, 64 bits, version 8.4.2)\n",
            "SWI-Prolog comes with ABSOLUTELY NO WARRANTY. This is free software.\n",
            "Please run ?- license. for legal details.\n",
            "\n",
            "For online help and background, visit https://www.swi-prolog.org\n",
            "For built-in help, use ?- help(Topic). or ?- apropos(Word).\n",
            "\n",
            "?- go.\n",
            "Apakah hewan memiliki sifat berikut: berbulu? (yes/no) yes.\n",
            "\n",
            "Apakah hewan memiliki sifat berikut: mengeong? (yes/no) |: yes.\n",
            "\n",
            "Apakah hewan memiliki sifat berikut: suka_mengejar_tikus? (yes/no) |: yes.\n",
            "\n",
            "Apakah hewan memiliki sifat berikut: berbulu_lembut? (yes/no) |: yes.\n",
            "\n",
            "Saya menebak bahwa hewannya adalah: kucing\n",
            "\u001b[1mtrue.\u001b[0m\n",
            "\n",
            "?- halt.\n"
          ]
        }
      ],
      "source": [
        "!swipl -s animal.pl"
      ]
    },
    {
      "cell_type": "markdown",
      "source": [
        "Untuk hasil experience yang lebih baik, maka gunakan SWISH GUI\n",
        "\n",
        "Untuk menjalankan program juga sama menggunakan `go` dan isi jawaban label `yes` atau `no`, bedanya pada SWISH GUI tidak memperlukan tambahan `.` di setiap jawaban input label.\n",
        "\n",
        "[SWISH GUI](https://swish.swi-prolog.org/p/EXAMPLE_EXPERT_SYSTEM.pl)"
      ],
      "metadata": {
        "id": "R67bUUGuxBg4"
      }
    }
  ],
  "metadata": {
    "colab": {
      "provenance": []
    },
    "kernelspec": {
      "display_name": "Python 3",
      "name": "python3"
    },
    "language_info": {
      "name": "python"
    }
  },
  "nbformat": 4,
  "nbformat_minor": 0
}