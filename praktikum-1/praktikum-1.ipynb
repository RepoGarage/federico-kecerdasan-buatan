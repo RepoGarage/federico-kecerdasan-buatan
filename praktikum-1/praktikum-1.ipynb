{
  "nbformat": 4,
  "nbformat_minor": 0,
  "metadata": {
    "colab": {
      "provenance": [],
      "collapsed_sections": [
        "Rosb7xLHE_hn",
        "5Rf0wuQlLjgZ",
        "ew7ZNL0BDxhd",
        "91C9QR72NaMG"
      ]
    },
    "kernelspec": {
      "name": "python3",
      "display_name": "Python 3"
    },
    "language_info": {
      "name": "python"
    }
  },
  "cells": [
    {
      "cell_type": "markdown",
      "source": [
        "# Handling Missing Data"
      ],
      "metadata": {
        "id": "Rosb7xLHE_hn"
      }
    },
    {
      "cell_type": "markdown",
      "source": [
        "Contoh Data (data.csv)"
      ],
      "metadata": {
        "id": "nOjXtH8H-CzT"
      }
    },
    {
      "cell_type": "code",
      "source": [
        "ID,Name,Age,Salary,Department,Performance_Score,Bonus\n",
        "1,Alice,25,50000,IT,90,\n",
        "2,Bob,30,60000,HR,85,\n",
        "3,Charlie,35,,Finance,80,\n",
        "4,David,40,75000,,95,\n",
        "5,Eve,,,IT,88,\n",
        "6,Frank,28,55000,HR,,\n",
        "7,Grace,33,,Finance,92,\n",
        "8,Hank,,70000,IT,,\n",
        "9,Ivy,29,72000,HR,87,\n",
        "10,Jack,31,58000,,89,"
      ],
      "metadata": {
        "id": "hH0uKGaJ-E4J"
      },
      "execution_count": null,
      "outputs": []
    },
    {
      "cell_type": "markdown",
      "source": [
        "Example Variable Deletion Method"
      ],
      "metadata": {
        "id": "hBDxLxg88-xT"
      }
    },
    {
      "cell_type": "code",
      "source": [
        "# Import Library\n",
        "import pandas as pd\n",
        "\n",
        "# Membaca Data\n",
        "data = pd.read_csv('/media/ntfs/KULIAH/Semester 4/Kecerdasan/data.csv')\n",
        "\n",
        "# Untuk menentukan data missing , contoh 20%\n",
        "threshold = 0.2\n",
        "\n",
        "# Kalau data yang hilang melebihi threshold (20%) maka akan di hapus\n",
        "data = data[data.columns[data.isnull().mean() < threshold]]\n",
        "\n",
        "data.to_csv('/media/ntfs/KULIAH/Semester 4/Kecerdasan/variable_deletion_cleaned.csv', index=False)"
      ],
      "metadata": {
        "id": "zrl2tVFFFFAN"
      },
      "execution_count": null,
      "outputs": []
    },
    {
      "cell_type": "markdown",
      "source": [
        "Output :"
      ],
      "metadata": {
        "id": "lDOf6w0B_4Sk"
      }
    },
    {
      "cell_type": "code",
      "source": [
        "ID,Name\n",
        "1,Alice\n",
        "2,Bob\n",
        "3,Charlie\n",
        "4,David\n",
        "5,Eve\n",
        "6,Frank\n",
        "7,Grace\n",
        "8,Hank\n",
        "9,Ivy\n",
        "10,Jack"
      ],
      "metadata": {
        "id": "Mxatt1C9_5id"
      },
      "execution_count": null,
      "outputs": []
    },
    {
      "cell_type": "markdown",
      "source": [
        "Example Imputasi Mean atau Medium Method"
      ],
      "metadata": {
        "id": "NSfBqipPLSn2"
      }
    },
    {
      "cell_type": "code",
      "source": [
        "# Import Library\n",
        "import pandas as pd\n",
        "\n",
        "# Membaca Data\n",
        "data = pd.read_csv('/media/ntfs/KULIAH/Semester 4/Kecerdasan/data.csv')\n",
        "\n",
        "# Ubah data menjadi ke Numeric\n",
        "numerical_cols = data.select_dtypes(include=['number']).columns\n",
        "data[numerical_cols] = data[numerical_cols].fillna(data[numerical_cols].median())\n",
        "\n",
        "data.to_csv('/media/ntfs/KULIAH/Semester 4/Kecerdasan/mean_or_median_cleaned.csv', index=False)"
      ],
      "metadata": {
        "id": "48J1Pmx0LcsB"
      },
      "execution_count": null,
      "outputs": []
    },
    {
      "cell_type": "markdown",
      "source": [
        "Output :"
      ],
      "metadata": {
        "id": "BWSYE-GTCT-u"
      }
    },
    {
      "cell_type": "code",
      "source": [
        "ID,Name,Age,Salary,Department,Performance_Score,Bonus\n",
        "1,Alice,25.0,50000.0,IT,90.0,\n",
        "2,Bob,30.0,60000.0,HR,85.0,\n",
        "3,Charlie,35.0,60000.0,Finance,80.0,\n",
        "4,David,40.0,75000.0,,95.0,\n",
        "5,Eve,30.5,60000.0,IT,88.0,\n",
        "6,Frank,28.0,55000.0,HR,88.5,\n",
        "7,Grace,33.0,60000.0,Finance,92.0,\n",
        "8,Hank,30.5,70000.0,IT,88.5,\n",
        "9,Ivy,29.0,72000.0,HR,87.0,\n",
        "10,Jack,31.0,58000.0,,89.0,"
      ],
      "metadata": {
        "id": "_iFgSgdkCVTu"
      },
      "execution_count": null,
      "outputs": []
    },
    {
      "cell_type": "markdown",
      "source": [
        "Example Most Common Value Method"
      ],
      "metadata": {
        "id": "WFdvO9xXJP08"
      }
    },
    {
      "cell_type": "code",
      "source": [
        "# Import Library\n",
        "import pandas as pd\n",
        "\n",
        "# Membaca Data\n",
        "data = pd.read_csv('/media/ntfs/KULIAH/Semester 4/Kecerdasan/data.csv')\n",
        "\n",
        "# Mengisi nilai yang hilang dengan nilai yang paling sering muncul dalam kolom tertentu\n",
        "data['Department'] = data['Department'].fillna(data['Department'].value_counts().idxmax())\n",
        "\n",
        "# Menyimpan hasil ke CSV\n",
        "data.to_csv('/media/ntfs/KULIAH/Semester 4/Kecerdasan/most_common_value_cleaned.csv', index=False)"
      ],
      "metadata": {
        "id": "O0thnQY4LnqX"
      },
      "execution_count": null,
      "outputs": []
    },
    {
      "cell_type": "markdown",
      "source": [
        "Output :"
      ],
      "metadata": {
        "id": "u_o8wYBLJUwJ"
      }
    },
    {
      "cell_type": "code",
      "source": [
        "ID,Name,Age,Salary,Department,Performance_Score,Bonus\n",
        "1,Alice,25.0,50000.0,IT,90.0,\n",
        "2,Bob,30.0,60000.0,HR,85.0,\n",
        "3,Charlie,35.0,,Finance,80.0,\n",
        "4,David,40.0,75000.0,IT,95.0,\n",
        "5,Eve,,,IT,88.0,\n",
        "6,Frank,28.0,55000.0,HR,,\n",
        "7,Grace,33.0,,Finance,92.0,\n",
        "8,Hank,,70000.0,IT,,\n",
        "9,Ivy,29.0,72000.0,HR,87.0,\n",
        "10,Jack,31.0,58000.0,IT,89.0,"
      ],
      "metadata": {
        "id": "O2_K9O4pJW6m"
      },
      "execution_count": null,
      "outputs": []
    },
    {
      "cell_type": "markdown",
      "source": [
        "# Handling Continuous Features"
      ],
      "metadata": {
        "id": "5Rf0wuQlLjgZ"
      }
    },
    {
      "cell_type": "markdown",
      "source": [
        "Example Min-Max Normalization Method"
      ],
      "metadata": {
        "id": "M3dBaoihOaOJ"
      }
    },
    {
      "cell_type": "code",
      "source": [
        "from sklearn.preprocessing import MinMaxScaler\n",
        "import numpy as np\n",
        "import pandas as pd\n",
        "\n",
        "# Object Array (Umur, Pengalaman, Gaji)\n",
        "data = np.array([\n",
        "    [25, 2, 5],\n",
        "    [30, 5, 10],\n",
        "    [35, 10, 20],\n",
        "    [40, 15, 35],\n",
        "    [45, 20, 50]\n",
        "])\n",
        "\n",
        "# Buat objek MinMaxScaler\n",
        "scaler = MinMaxScaler(feature_range=(0,1))\n",
        "\n",
        "# Lakukan scaling pada data\n",
        "scaled_data = scaler.fit_transform(data)\n",
        "\n",
        "# Tampilkan hasil dalam DataFrame agar lebih rapi\n",
        "df_scaled = pd.DataFrame(scaled_data, columns=['Usia (scaled)', 'Pengalaman (scaled)', 'Gaji (scaled)'])\n",
        "print(df_scaled)"
      ],
      "metadata": {
        "id": "F77SrMPNOYWU"
      },
      "execution_count": null,
      "outputs": []
    },
    {
      "cell_type": "markdown",
      "source": [
        "Output :"
      ],
      "metadata": {
        "id": "zcrAYhEvOc1V"
      }
    },
    {
      "cell_type": "code",
      "source": [
        "   Usia (scaled)  Pengalaman (scaled)  Gaji (scaled)\n",
        "0           0.00             0.000000       0.000000\n",
        "1           0.25             0.166667       0.111111\n",
        "2           0.50             0.444444       0.333333\n",
        "3           0.75             0.722222       0.666667\n",
        "4           1.00             1.000000       1.000000"
      ],
      "metadata": {
        "id": "ci26zTdjOe0a"
      },
      "execution_count": null,
      "outputs": []
    },
    {
      "cell_type": "markdown",
      "source": [
        "Example Standardization Method"
      ],
      "metadata": {
        "id": "iXPRSGo3A8Nb"
      }
    },
    {
      "cell_type": "code",
      "source": [
        "from sklearn.preprocessing import StandardScaler\n",
        "import numpy as np\n",
        "\n",
        "# 4 sampel/observasi dengan 2 fitur/variabel\n",
        "data = np.array([[4, 1], [11, 1], [10, 4], [1, 11]])\n",
        "\n",
        "# Membuat objek scaler\n",
        "scaler = StandardScaler()\n",
        "\n",
        "# Melatih dan mentransformasi data\n",
        "scaled_data = scaler.fit_transform(data)\n",
        "\n",
        "print(scaled_data)\n"
      ],
      "metadata": {
        "id": "GIqGRIX6DOh3"
      },
      "execution_count": null,
      "outputs": []
    },
    {
      "cell_type": "markdown",
      "source": [
        "Output :"
      ],
      "metadata": {
        "id": "XoBdT8alDDJX"
      }
    },
    {
      "cell_type": "code",
      "source": [
        "[[-0.60192927 -0.79558708]\n",
        " [ 1.08347268 -0.79558708]\n",
        " [ 0.84270097 -0.06119901]\n",
        " [-1.32424438  1.65237317]]"
      ],
      "metadata": {
        "id": "QsGap-r9BBdh"
      },
      "execution_count": null,
      "outputs": []
    },
    {
      "cell_type": "markdown",
      "source": [
        "# Handle Categorical Features"
      ],
      "metadata": {
        "id": "ew7ZNL0BDxhd"
      }
    },
    {
      "cell_type": "markdown",
      "source": [
        "Example Label Encoding Method"
      ],
      "metadata": {
        "id": "EhCi9bCHFl5P"
      }
    },
    {
      "cell_type": "code",
      "source": [
        "# import packages\n",
        "import pandas as pd\n",
        "from sklearn.preprocessing import LabelEncoder\n",
        "\n",
        "# intialise data of lists.\n",
        "data = {'Gender':['male', 'female', 'female', 'male','male'],\n",
        "        'Country':['Tanzania','Kenya', 'Tanzania', 'Tanzania','Kenya']}\n",
        "\n",
        "# Create DataFrame\n",
        "data = pd.DataFrame(data)\n",
        "\n",
        "# create label encoder object\n",
        "le = LabelEncoder()\n",
        "\n",
        "data['Gender']= le.fit_transform(data['Gender'])\n",
        "data['Country']= le.fit_transform(data['Country'])\n",
        "\n",
        "print(data)"
      ],
      "metadata": {
        "id": "bgiYv5QsHVOr",
        "colab": {
          "base_uri": "https://localhost:8080/"
        },
        "outputId": "8230e71a-beb2-440a-ef14-4e44b0d15ad6"
      },
      "execution_count": null,
      "outputs": [
        {
          "output_type": "stream",
          "name": "stdout",
          "text": [
            "   Gender  Country\n",
            "0       1        1\n",
            "1       0        0\n",
            "2       0        1\n",
            "3       1        1\n",
            "4       1        0\n"
          ]
        }
      ]
    },
    {
      "cell_type": "markdown",
      "source": [
        "Output :"
      ],
      "metadata": {
        "id": "qfrwWzSrHXXM"
      }
    },
    {
      "cell_type": "code",
      "source": [
        "   Gender  Country\n",
        "0       1        1\n",
        "1       0        0\n",
        "2       0        1\n",
        "3       1        1\n",
        "4       1        0"
      ],
      "metadata": {
        "id": "EGMKNGm0HnCF"
      },
      "execution_count": null,
      "outputs": []
    },
    {
      "cell_type": "markdown",
      "source": [
        "Example One-hot-encoding Method"
      ],
      "metadata": {
        "id": "Fx-AtODCFtBE"
      }
    },
    {
      "cell_type": "code",
      "source": [
        "# import packages\n",
        "import numpy as np\n",
        "from sklearn.preprocessing import OneHotEncoder, LabelEncoder\n",
        "\n",
        "# define example\n",
        "data = np.array(['cold', 'cold', 'warm', 'cold', 'hot', 'hot', 'warm', 'cold', 'warm', 'hot'])\n",
        "\n",
        "# integer encode\n",
        "label_encoder = LabelEncoder()\n",
        "\n",
        "#fit and transform the data\n",
        "integer_encoded = label_encoder.fit_transform(data)\n",
        "print(integer_encoded)\n",
        "\n",
        "# one-hot encode\n",
        "onehot_encoder = OneHotEncoder(sparse_output=False)\n",
        "\n",
        "#reshape the data\n",
        "integer_encoded = integer_encoded.reshape(len(integer_encoded), 1)\n",
        "\n",
        "#fit and transform the data\n",
        "onehot_encoded = onehot_encoder.fit_transform(integer_encoded)\n",
        "\n",
        "print(onehot_encoded)"
      ],
      "metadata": {
        "id": "8imJ1EDgItUS"
      },
      "execution_count": null,
      "outputs": []
    },
    {
      "cell_type": "markdown",
      "source": [
        "Output :"
      ],
      "metadata": {
        "id": "YpQmEaxpKKWw"
      }
    },
    {
      "cell_type": "code",
      "source": [
        "[0 0 2 0 1 1 2 0 2 1]\n",
        "[[1. 0. 0.]\n",
        " [1. 0. 0.]\n",
        " [0. 0. 1.]\n",
        " [1. 0. 0.]\n",
        " [0. 1. 0.]\n",
        " [0. 1. 0.]\n",
        " [0. 0. 1.]\n",
        " [1. 0. 0.]\n",
        " [0. 0. 1.]\n",
        " [0. 1. 0.]]"
      ],
      "metadata": {
        "id": "oTreakU6KLoj"
      },
      "execution_count": null,
      "outputs": []
    },
    {
      "cell_type": "markdown",
      "source": [
        "# Feature Selection"
      ],
      "metadata": {
        "id": "91C9QR72NaMG"
      }
    },
    {
      "cell_type": "markdown",
      "source": [
        "Example Selective Univariate Method"
      ],
      "metadata": {
        "id": "zmH1piGvNdOP"
      }
    },
    {
      "cell_type": "code",
      "source": [
        "# Load packages\n",
        "from sklearn.datasets import load_iris\n",
        "from sklearn.feature_selection import SelectKBest\n",
        "from sklearn.feature_selection import chi2\n",
        "\n",
        "# Load iris data\n",
        "iris_dataset = load_iris()\n",
        "\n",
        "# Create features and target\n",
        "X = iris_dataset.data\n",
        "y = iris_dataset.target\n",
        "\n",
        "# Convert to categorical data by converting data to integers\n",
        "X = X.astype(int)\n",
        "\n",
        "# Two features with highest chi-squared statistics are selected\n",
        "chi2_features = SelectKBest(chi2, k = 2)\n",
        "X_kbest_features = chi2_features.fit_transform(X, y)\n",
        "\n",
        "# Reduced features\n",
        "print('Original feature number:', X.shape[1])\n",
        "print('Reduced feature number:', X_kbest_features.shape[1])"
      ],
      "metadata": {
        "id": "9AwIFxf-Nhud"
      },
      "execution_count": null,
      "outputs": []
    },
    {
      "cell_type": "markdown",
      "source": [
        "Output :"
      ],
      "metadata": {
        "id": "5YzO2xlqNkDV"
      }
    },
    {
      "cell_type": "code",
      "source": [
        "Original feature number: 4\n",
        "Reduced feature number: 2"
      ],
      "metadata": {
        "id": "NhbVCLwsNlRl"
      },
      "execution_count": null,
      "outputs": []
    },
    {
      "cell_type": "markdown",
      "source": [
        "Example Priority Feature Method"
      ],
      "metadata": {
        "id": "ekAqXPPBPtsg"
      }
    },
    {
      "cell_type": "code",
      "source": [
        "# Load libraries\n",
        "from sklearn.datasets import load_iris\n",
        "import matplotlib.pyplot as plt\n",
        "from sklearn.ensemble import ExtraTreesClassifier\n",
        "import numpy as np\n",
        "\n",
        "# Load iris data\n",
        "iris_dataset = load_iris()\n",
        "\n",
        "# Create features and target\n",
        "X = iris_dataset.data\n",
        "y = iris_dataset.target\n",
        "\n",
        "# Convert to categorical data by converting data to integers\n",
        "X = X.astype(int)\n",
        "\n",
        " # Building the model\n",
        "extra_tree_forest = ExtraTreesClassifier(n_estimators = 5, criterion ='entropy', max_features = 2)\n",
        "\n",
        "# Training the model\n",
        "extra_tree_forest.fit(X, y)\n",
        "\n",
        "# Computing the importance of each feature\n",
        "feature_importance = extra_tree_forest.feature_importances_\n",
        "\n",
        "# Normalizing the individual importances\n",
        "feature_importance_normalized = np.std([tree.feature_importances_ for tree in extra_tree_forest.estimators_], axis = 0)\n",
        "\n",
        "# Plotting a Bar Graph to compare the models\n",
        "plt.bar(iris_dataset.feature_names, feature_importance_normalized)\n",
        "plt.xlabel('Feature Labels')\n",
        "plt.ylabel('Feature Importances')\n",
        "plt.title('Comparison of different Feature Importances')\n",
        "plt.show()"
      ],
      "metadata": {
        "id": "MW68iyVuPvk6",
        "colab": {
          "base_uri": "https://localhost:8080/",
          "height": 472
        },
        "outputId": "4491d8c9-3b9a-4d47-96b0-fc3766d1d07a"
      },
      "execution_count": null,
      "outputs": [
        {
          "output_type": "display_data",
          "data": {
            "text/plain": [
              "<Figure size 640x480 with 1 Axes>"
            ],
            "image/png": "[encoded data removed]"
          },
          "metadata": {}
        }
      ]
    },
    {
      "cell_type": "markdown",
      "source": [
        "Example Matrix Heatmap Method"
      ],
      "metadata": {
        "id": "yA6r-j7tP_nX"
      }
    },
    {
      "cell_type": "code",
      "source": [
        "# Import libraries\n",
        "import pandas as pd\n",
        "import matplotlib.pyplot as plt\n",
        "import seaborn as sns\n",
        "from sklearn.datasets import fetch_california_housing\n",
        "\n",
        "# Load California Housing dataset\n",
        "california_dataset = fetch_california_housing()\n",
        "\n",
        "# Create a DataFrame\n",
        "california = pd.DataFrame(california_dataset.data, columns=california_dataset.feature_names)\n",
        "\n",
        "# Plot the heatmap for correlation\n",
        "plt.figure(figsize=(10, 8))  # Mengatur ukuran heatmap\n",
        "ax = sns.heatmap(california.corr().round(2), annot=True, cmap=\"coolwarm\")\n",
        "\n",
        "# Show plot\n",
        "plt.show()"
      ],
      "metadata": {
        "id": "kunthOmARtJN",
        "colab": {
          "base_uri": "https://localhost:8080/",
          "height": 682
        },
        "outputId": "6082c9ce-6296-46a7-dcab-02d19a3703c7"
      },
      "execution_count": null,
      "outputs": [
        {
          "output_type": "display_data",
          "data": {
            "text/plain": [
              "<Figure size 1000x800 with 2 Axes>"
            ],
            "image/png": "[encoded data removed]"
          },
          "metadata": {}
        }
      ]
    }
  ]
}