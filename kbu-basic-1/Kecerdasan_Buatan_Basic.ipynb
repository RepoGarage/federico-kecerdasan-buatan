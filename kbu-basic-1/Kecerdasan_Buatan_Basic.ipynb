{
  "nbformat": 4,
  "nbformat_minor": 0,
  "metadata": {
    "colab": {
      "provenance": [],
      "collapsed_sections": [
        "VCfboBt5PRJC",
        "3rCjlTOsPU9E",
        "RETuM-S6P7ou",
        "01w4-6l9PfHq",
        "U1nYoUW6Ph4t",
        "jZOieaaEkTBh",
        "bfGrZynVmqak",
        "YwL-fOZeoZb4",
        "-i3qJ91Mob2t",
        "bH5ReAAuof-K",
        "9yhwgTqVs8ec",
        "ngns8nr2wKtY",
        "b2vFtazdwNkJ",
        "l8B1DA0vwQro",
        "U4d5SXW6tBV6",
        "3hpkNjyS6VCA",
        "XDE_gvTy6bcB",
        "Jr0W7_7i6gU5",
        "CJBPFHx18H6h",
        "OWJrSDWJ8QBQ",
        "AHAKdYyT8Shn",
        "2RqGhT318U9W",
        "JnTZqQCp8W5x",
        "v5IzMdn88La8",
        "Y7lGdOCEB_qC",
        "6H4TBgTCCCNv",
        "GkrbXAcV9yqp"
      ]
    },
    "kernelspec": {
      "name": "python3",
      "display_name": "Python 3"
    },
    "language_info": {
      "name": "python"
    }
  },
  "cells": [
    {
      "cell_type": "markdown",
      "source": [
        "# Kecerdasan Buatan Basic"
      ],
      "metadata": {
        "id": "6UzQFv51PIuC"
      }
    },
    {
      "cell_type": "markdown",
      "source": [
        "## Federico Matthew Pratama - 233405001"
      ],
      "metadata": {
        "id": "suC4V9MXPLpE"
      }
    },
    {
      "cell_type": "markdown",
      "source": [
        "## Depth-First Search (DFS)"
      ],
      "metadata": {
        "id": "VCfboBt5PRJC"
      }
    },
    {
      "cell_type": "markdown",
      "source": [
        "### Apa itu DFS?"
      ],
      "metadata": {
        "id": "3rCjlTOsPU9E"
      }
    },
    {
      "cell_type": "markdown",
      "source": [
        "DFS adalah algoritma pencarian atau penelusuran dalam struktur data graf atau pohon. **Cara kerjanya** :\n",
        "1.\tMulai dari simpul awal (start node)\n",
        "2.\tTelusuri salah satu cabang hingga sejauh mungkin (sedalam mungkin)\n",
        "3.\tKalau sudah buntu (dead-end), backtrack ke node sebelumnya\n",
        "4.\tUlangi proses sampai semua node dikunjungi atau tujuan ditemukan"
      ],
      "metadata": {
        "id": "gcDRSKKkP1EW"
      }
    },
    {
      "cell_type": "markdown",
      "source": [
        "### Ciri-ciri DFS"
      ],
      "metadata": {
        "id": "RETuM-S6P7ou"
      }
    },
    {
      "cell_type": "markdown",
      "source": [
        "1.\tMenggunakan Stack (Bisa pakai stack eksplisit (list di Python), atau stack implisit lewat rekursi)\n",
        "2.\tTidak menjamin jalur terpendek\n",
        "3.\tBisa masuk ke infinite loop jika ada siklus dan tidak pakai penanda kunjungan (Sudah dikunjungi, namun malah dikunjungi lagi)"
      ],
      "metadata": {
        "id": "KBdmHY0iP_h2"
      }
    },
    {
      "cell_type": "markdown",
      "source": [
        "### Kapan DFS Cocok Digunakan?"
      ],
      "metadata": {
        "id": "01w4-6l9PfHq"
      }
    },
    {
      "cell_type": "markdown",
      "source": [
        "1. Mencari semua kemungkinan solusi\n",
        "2. Masalah yang butuh eksplorasi mendalam (misalnya teka-teki labirin)\n",
        "3. Menyelesaikan topological sorting (dalam graf DAG) atau penyelesaian secara linear.\n",
        "4. Deteksi siklus dalam graf (cek apakah ada siklus dalam graf)\n",
        "5. Membuat maze / procedurally generated map / labirin"
      ],
      "metadata": {
        "id": "MzZpOieDQE_w"
      }
    },
    {
      "cell_type": "markdown",
      "source": [
        "### Contoh Kasus"
      ],
      "metadata": {
        "id": "U1nYoUW6Ph4t"
      }
    },
    {
      "cell_type": "markdown",
      "source": [
        "![image.png](data:image/png;base64,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)"
      ],
      "metadata": {
        "id": "1NMutRuRi8HZ"
      }
    },
    {
      "cell_type": "markdown",
      "source": [
        "Dalam contoh diatas :\n",
        "\n",
        "A -> Root\n",
        "\n",
        "B dan C adalah children dari A\n",
        "\n",
        "B punya 2 children lainnya, yaitu D dan E\n",
        "\n",
        "E punya children G\n",
        "\n",
        "C punya children F\n",
        "\n",
        "Karena semua node punya 0–2 anak (tapi tak seimbang), ini bisa disebut tree (asalkan gak ada siklus kembali ke atas). Kalau kita tambahkan edge dari G ke B misalnya, maka sudah jadi graph biasa, bukan tree."
      ],
      "metadata": {
        "id": "YOfblTqgi_QD"
      }
    },
    {
      "cell_type": "markdown",
      "source": [
        "DFS memiliki dua metode, yaitu secara Recursive dan Non-Recursive :"
      ],
      "metadata": {
        "id": "_D502HjvjJLF"
      }
    },
    {
      "cell_type": "markdown",
      "source": [
        "**DFS Recursive**"
      ],
      "metadata": {
        "id": "i6tqs_74QYpx"
      }
    },
    {
      "cell_type": "code",
      "execution_count": null,
      "metadata": {
        "colab": {
          "base_uri": "https://localhost:8080/"
        },
        "id": "PqGEsN1MHPaH",
        "outputId": "6abb9d70-6d70-45ae-e7f7-f1e428f766d0"
      },
      "outputs": [
        {
          "output_type": "stream",
          "name": "stdout",
          "text": [
            "DFS (rekursif) :\n",
            "A B D E G C F "
          ]
        },
        {
          "output_type": "execute_result",
          "data": {
            "text/plain": [
              "{'A', 'B', 'C', 'D', 'E', 'F', 'G'}"
            ]
          },
          "metadata": {},
          "execution_count": 15
        }
      ],
      "source": [
        "def dfs(graph, node, visited=None):\n",
        "    if visited is None:\n",
        "        visited = set()\n",
        "    visited.add(node)\n",
        "    print(node, end=' ')\n",
        "    for neighbor in graph[node]:\n",
        "        if neighbor not in visited:\n",
        "            dfs(graph, neighbor, visited)\n",
        "    return visited\n",
        "\n",
        "graph = {\n",
        "    'A': ['B', 'C'],\n",
        "    'B': ['D', 'E'],\n",
        "    'C': ['F'],\n",
        "    'D': [],\n",
        "    'E': ['G'],\n",
        "    'F': [],\n",
        "    'G': []\n",
        "}\n",
        "\n",
        "print(\"DFS (rekursif) :\")\n",
        "dfs(graph, 'A')"
      ]
    },
    {
      "cell_type": "markdown",
      "source": [
        "Maksud dari Kode diatas :\n",
        "1.\tGunakan fungsi yang memanggil dirinya sendiri.\n",
        "2.\tSetiap kali masuk ke node baru, posisi sebelumnya disimpan otomatis di “call stack”.\n",
        "3.\tSetelah selesai eksplorasi, otomatis balik ke node sebelumnya."
      ],
      "metadata": {
        "id": "4olAGuaKjQV7"
      }
    },
    {
      "cell_type": "markdown",
      "source": [
        "**Non-Recursive**"
      ],
      "metadata": {
        "id": "uefQAC9GXlby"
      }
    },
    {
      "cell_type": "code",
      "source": [
        "def dfs_iterative(start):\n",
        "    visited = set()\n",
        "    stack = [start]\n",
        "\n",
        "    while stack:\n",
        "        node = stack.pop()\n",
        "        if node not in visited:\n",
        "            print(node, end=' ')\n",
        "            visited.add(node)\n",
        "            stack.extend(reversed(graph[node]))\n",
        "\n",
        "graph = {\n",
        "    'A': ['B', 'C'],\n",
        "    'B': ['D', 'E'],\n",
        "    'C': ['F'],\n",
        "    'D': [],\n",
        "    'E': ['G'],\n",
        "    'F': [],\n",
        "    'G': []\n",
        "}\n",
        "\n",
        "print(\"DFS (non-rekursif) :\")\n",
        "dfs_iterative('A')"
      ],
      "metadata": {
        "colab": {
          "base_uri": "https://localhost:8080/"
        },
        "id": "nWETCXvBXnxg",
        "outputId": "b92ee792-6c51-4569-8a3b-e6d68e5dcc5e"
      },
      "execution_count": null,
      "outputs": [
        {
          "output_type": "stream",
          "name": "stdout",
          "text": [
            "DFS (non-rekursif) :\n",
            "A B D E G C F "
          ]
        }
      ]
    },
    {
      "cell_type": "markdown",
      "source": [
        "Maksud dari Kode diatas :\n",
        "1.\tPakai stack buatan sendiri (manual).\n",
        "2.\tMengatur urutan node yang mau dikunjungi.\n",
        "3.\tTidak pakai fungsi yang memanggil dirinya sendiri."
      ],
      "metadata": {
        "id": "Z4Z1_HRvjT88"
      }
    },
    {
      "cell_type": "markdown",
      "source": [
        "Dari Contoh penerapan kode diatas, berikut merupakan Simulasi Traversal (Start dari A)\n",
        "Urutan : A -> B -> D -> E -> G -> C -> F\n",
        "Dari A ke B, ke D, kembali ke B, ke E, ke G, kembali lagi ke B, ke C dan terakhir ke F.\n"
      ],
      "metadata": {
        "id": "jzgSi-Isjd0R"
      }
    },
    {
      "cell_type": "markdown",
      "source": [
        "Perbandingan Recursive vs Non-Recursive :"
      ],
      "metadata": {
        "id": "VW7Xa0d5jWW-"
      }
    },
    {
      "cell_type": "markdown",
      "source": [
        "![image.png](data:image/png;base64,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)"
      ],
      "metadata": {
        "id": "nJo32r86jfjU"
      }
    },
    {
      "cell_type": "markdown",
      "source": [
        "## Breadth First Search (BFS)"
      ],
      "metadata": {
        "id": "jZOieaaEkTBh"
      }
    },
    {
      "cell_type": "markdown",
      "source": [
        "### Apa itu BFS?"
      ],
      "metadata": {
        "id": "bfGrZynVmqak"
      }
    },
    {
      "cell_type": "markdown",
      "source": [
        "BFS (Breadth First Search) adalah algoritma penelusuran yang bekerja dengan cara menjelajahi semua node pada level tertentu terlebih dahulu, baru lanjut ke level berikutnya. Cara kerja sederhananya :\n",
        "\n",
        "1.\tMulai dari simpul awal (start node)\n",
        "2.\tKunjungi semua tetangganya terlebih dahulu (yang berjarak 1)\n",
        "3.\tLanjutkan ke tetangganya tetangga (yang berjarak 2, dst)\n",
        "4.\tGunakan antrian (queue) untuk melacak urutan kunjungan"
      ],
      "metadata": {
        "id": "2rAtrWYxojNo"
      }
    },
    {
      "cell_type": "markdown",
      "source": [
        "### Ciri-ciri BFS"
      ],
      "metadata": {
        "id": "YwL-fOZeoZb4"
      }
    },
    {
      "cell_type": "markdown",
      "source": [
        "1.\tMenggunakan Queue (FIFO).\n",
        "2.\tMenelusuri secara melebar (level demi level).\n",
        "3.\tMenjamin menemukan jalur terpendek (jika semua bobot sama).\n",
        "4.\tTidak bisa digunakan jika graf sangat besar dan tidak bisa ditampung semua di memori.\n",
        "5.\tTetap butuh visited set/list agar tidak muter-muter (looping)."
      ],
      "metadata": {
        "id": "xdTmZC3AomGm"
      }
    },
    {
      "cell_type": "markdown",
      "source": [
        "### Kapan BFS Cocok Digunakan?"
      ],
      "metadata": {
        "id": "-i3qJ91Mob2t"
      }
    },
    {
      "cell_type": "markdown",
      "source": [
        "1.\tMencari jalur terpendek (shortest path) di graf tanpa bobot.\n",
        "2.\tMasalah traversal level (misalnya menghitung jarak dari root ke semua node).\n",
        "3.\tBot pencari rute tercepat (seperti GPS awal atau AI Game Basic).\n",
        "4.\tPeer-to-peer network discovery (semua tetangga dicari dulu)."
      ],
      "metadata": {
        "id": "hVq6-m4KowPp"
      }
    },
    {
      "cell_type": "markdown",
      "source": [
        "###\tContoh Kasus"
      ],
      "metadata": {
        "id": "bH5ReAAuof-K"
      }
    },
    {
      "cell_type": "markdown",
      "source": [
        "Sama seperti pada Gambar 1 dengan simulasi (Start dari A):\n",
        "Urutan kunjungan: A → B → C → D → E → F → G"
      ],
      "metadata": {
        "id": "TP-FQp3OoyLY"
      }
    },
    {
      "cell_type": "markdown",
      "source": [
        "Penjelasan :\n",
        "1.\tKunjungi A, masukin B dan C ke antrian\n",
        "2.\tDari antrian ambil B, masukin D dan E\n",
        "3.\tAmbil C, masukin F\n",
        "4.\tAmbil D (nggak punya anak), lanjut ke E (masukin G), lalu ke F, terakhir ke G"
      ],
      "metadata": {
        "id": "H7nLpFr9pHgz"
      }
    },
    {
      "cell_type": "markdown",
      "source": [
        "Berikut merupakan contoh Implementasi dari BFS :"
      ],
      "metadata": {
        "id": "y0G44n6gpL1t"
      }
    },
    {
      "cell_type": "code",
      "source": [
        "from collections import deque\n",
        "\n",
        "def bfs(graph, start):\n",
        "    visited = set()\n",
        "    queue = deque([start])\n",
        "\n",
        "    while queue:\n",
        "        vertex = queue.popleft()\n",
        "        if vertex not in visited:\n",
        "            print(vertex, end=' ')\n",
        "            visited.add(vertex)\n",
        "            for neighbor in graph[vertex]:\n",
        "                if neighbor not in visited:\n",
        "                    queue.append(neighbor)\n",
        "graph = {\n",
        "    'A': ['B', 'C'],\n",
        "    'B': ['D', 'E'],\n",
        "    'C': ['F'],\n",
        "    'D': [],\n",
        "    'E': ['G'],\n",
        "    'F': [],\n",
        "    'G': []\n",
        "}\n",
        "\n",
        "print(\"BFS :\")\n",
        "bfs(graph, 'A')"
      ],
      "metadata": {
        "colab": {
          "base_uri": "https://localhost:8080/"
        },
        "id": "AVV0c7OPmq35",
        "outputId": "26363254-64e0-415e-bc36-32cf0ecdd3cc"
      },
      "execution_count": null,
      "outputs": [
        {
          "output_type": "stream",
          "name": "stdout",
          "text": [
            "BFS :\n",
            "A B C D E F G "
          ]
        }
      ]
    },
    {
      "cell_type": "markdown",
      "source": [
        "Berikut merupakan perbandingan DFS vs BFS :"
      ],
      "metadata": {
        "id": "ys1xMmIcpidY"
      }
    },
    {
      "cell_type": "markdown",
      "source": [
        "![image.png](data:image/png;base64,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)"
      ],
      "metadata": {
        "id": "orWc74v1pXLn"
      }
    },
    {
      "cell_type": "markdown",
      "source": [
        "## Uninformed Search"
      ],
      "metadata": {
        "id": "9yhwgTqVs8ec"
      }
    },
    {
      "cell_type": "markdown",
      "source": [
        "### Apa itu Uninformed Search?"
      ],
      "metadata": {
        "id": "ngns8nr2wKtY"
      }
    },
    {
      "cell_type": "markdown",
      "source": [
        "Uninformed Search adalah metode pencarian di mana algoritma tidak memiliki informasi lebih tentang jalur atau biaya menuju tujuan. Artinya, algoritma hanya mengandalkan informasi yang ada pada graf atau pohon yang sedang dianalisis. Pencarian ini tidak menggunakan heuristik atau informasi lainnya yang membantu mengarahkan pencarian. Beberapa contoh algoritma uninformed search adalah DFS (Depth-First Search) dan BFS (Breadth-First Search)."
      ],
      "metadata": {
        "id": "K76oU2lywWGw"
      }
    },
    {
      "cell_type": "markdown",
      "source": [
        "### Ciri-ciri Uninformed Search"
      ],
      "metadata": {
        "id": "b2vFtazdwNkJ"
      }
    },
    {
      "cell_type": "markdown",
      "source": [
        "1.\tTidak menggunakan heuristik atau informasi tentang jarak atau biaya.\n",
        "2.\tAlgoritma hanya memeriksa node dalam graf secara sistematis.\n",
        "3.\tAlgoritma ini sangat bergantung pada struktur graf atau pohon.\n",
        "4.\tDFS dan BFS adalah implementasi klasik dari uninformed search."
      ],
      "metadata": {
        "id": "F7lRk9ozwWxE"
      }
    },
    {
      "cell_type": "markdown",
      "source": [
        "### Kapan Uninformed Search Cocok Digunakan?"
      ],
      "metadata": {
        "id": "l8B1DA0vwQro"
      }
    },
    {
      "cell_type": "markdown",
      "source": [
        "1.\tTidak ada informasi tambahan atau heuristik untuk membantu pencarian, sehingga algoritma hanya mengandalkan struktur graf atau pohon yang ada.\n",
        "2.\tMencari solusi di graf atau pohon yang tidak mempertimbangkan biaya atau jarak antar node, seperti pada pencarian jalur dalam graf tanpa bobot.\n",
        "3.\tDFS cocok digunakan untuk eksplorasi secara mendalam, misalnya saat kita perlu mengeksplorasi hingga ke kedalaman tertentu.\n",
        "4.\tBFS digunakan untuk mencari jalur terpendek di graf tanpa bobot, atau mencari jalur dengan urutan level demi level dari node awal ke node tujuan."
      ],
      "metadata": {
        "id": "s--NbabxwaRB"
      }
    },
    {
      "cell_type": "markdown",
      "source": [
        "### Contoh Kasus"
      ],
      "metadata": {
        "id": "U4d5SXW6tBV6"
      }
    },
    {
      "cell_type": "markdown",
      "source": [
        "Berikut ini adalah contoh implementasi dari DFS dan BFS, yang keduanya merupakan algoritma dari Uninformed Search :"
      ],
      "metadata": {
        "id": "aabllpoCwiKh"
      }
    },
    {
      "cell_type": "markdown",
      "source": [
        "**DFS (Depth-First Search)**"
      ],
      "metadata": {
        "id": "PJs25VWE1HKU"
      }
    },
    {
      "cell_type": "markdown",
      "source": [
        "DFS adalah algoritma pencarian yang menjelajah sepanjang satu cabang dari graf hingga tidak bisa melanjutkan, baru kembali (backtrack) ke node sebelumnya dan mencoba cabang lain. DFS bisa diimplementasikan secara rekursif atau non-rekursif."
      ],
      "metadata": {
        "id": "2LTDuA87wjMc"
      }
    },
    {
      "cell_type": "markdown",
      "source": [
        "Kode Implementasi DFS (Recursive) :"
      ],
      "metadata": {
        "id": "mtuBzywntupc"
      }
    },
    {
      "cell_type": "code",
      "source": [
        "def dfs(graph, node, visited):\n",
        "    if node not in visited:\n",
        "        print(node, end=\" \")\n",
        "        visited.add(node)\n",
        "        for neighbor in graph[node]:\n",
        "            dfs(graph, neighbor, visited)\n",
        "\n",
        "graph = {\n",
        "    'A': ['B', 'C'],\n",
        "    'B': ['D', 'E'],\n",
        "    'C': ['F'],\n",
        "    'D': [],\n",
        "    'E': ['G'],\n",
        "    'F': [],\n",
        "    'G': []\n",
        "}\n",
        "\n",
        "visited = set()\n",
        "\n",
        "print(\"DFS Traversal:\")\n",
        "dfs(graph, 'A', visited)"
      ],
      "metadata": {
        "colab": {
          "base_uri": "https://localhost:8080/"
        },
        "id": "BpUEuyButEM3",
        "outputId": "0f138147-56c5-40ad-b0f0-a6a044e7222e"
      },
      "execution_count": null,
      "outputs": [
        {
          "output_type": "stream",
          "name": "stdout",
          "text": [
            "DFS Traversal:\n",
            "A B D E G C F "
          ]
        }
      ]
    },
    {
      "cell_type": "markdown",
      "source": [
        "DFS (Depth-First Search) : Mulai dari A, DFS akan menelusuri cabang pertama (A → B → D), kemudian kembali ke B, melanjutkan ke E, kembali ke A, dan menelusuri C → F."
      ],
      "metadata": {
        "id": "INvnNTBl3kQb"
      }
    },
    {
      "cell_type": "markdown",
      "source": [
        "**BFS (Breadth-First Search)**"
      ],
      "metadata": {
        "id": "91Zr6l4c1SPa"
      }
    },
    {
      "cell_type": "markdown",
      "source": [
        "BFS adalah algoritma pencarian yang menjelajahi level demi level dari graf, mulai dari node awal dan terus bergerak ke tetangga-tetangga yang lebih jauh secara berurutan. BFS menjamin menemukan jalur terpendek jika semua bobot antar node sama."
      ],
      "metadata": {
        "id": "B4X-_WxuwmrV"
      }
    },
    {
      "cell_type": "markdown",
      "source": [
        "Kode Implementasi BFS :"
      ],
      "metadata": {
        "id": "ZOpbFB1DtxRm"
      }
    },
    {
      "cell_type": "code",
      "source": [
        "from collections import deque\n",
        "\n",
        "def bfs(graph, start):\n",
        "    visited = set()\n",
        "    queue = deque([start])\n",
        "\n",
        "    while queue:\n",
        "        node = queue.popleft()\n",
        "        if node not in visited:\n",
        "            print(node, end=\" \")\n",
        "            visited.add(node)\n",
        "            for neighbor in graph[node]:\n",
        "                queue.append(neighbor)\n",
        "graph = {\n",
        "    'A': ['B', 'C'],\n",
        "    'B': ['D', 'E'],\n",
        "    'C': ['F'],\n",
        "    'D': [],\n",
        "    'E': ['G'],\n",
        "    'F': [],\n",
        "    'G': []\n",
        "}\n",
        "\n",
        "print(\"\\nBFS Traversal:\")\n",
        "bfs(graph, 'A')"
      ],
      "metadata": {
        "colab": {
          "base_uri": "https://localhost:8080/"
        },
        "id": "9PeyKR2PttkB",
        "outputId": "4a72d516-53e7-46b1-cb6f-25c4f4d391fe"
      },
      "execution_count": null,
      "outputs": [
        {
          "output_type": "stream",
          "name": "stdout",
          "text": [
            "\n",
            "BFS Traversal:\n",
            "A B C D E F G "
          ]
        }
      ]
    },
    {
      "cell_type": "markdown",
      "source": [
        "BFS (Breadth-First Search) : Mulai dari A, BFS akan mengunjungi semua tetangga A terlebih dahulu (B dan C), lalu melanjutkan ke B → D, E, dan C → F."
      ],
      "metadata": {
        "id": "K3Kx0fu-3mCj"
      }
    },
    {
      "cell_type": "markdown",
      "source": [
        "## Informed Search"
      ],
      "metadata": {
        "id": "P6_272TNs_Wb"
      }
    },
    {
      "cell_type": "markdown",
      "source": [
        "### Apa itu Informed Search?"
      ],
      "metadata": {
        "id": "3hpkNjyS6VCA"
      }
    },
    {
      "cell_type": "markdown",
      "source": [
        "Informed Search adalah metode pencarian yang menggunakan informasi tambahan, biasanya dalam bentuk heuristik, untuk membantu mencari jalur atau solusi yang lebih optimal. Heuristik ini memberikan panduan tentang seberapa jauh suatu node dari tujuan, yang memungkinkan algoritma untuk lebih fokus dalam pencarian menuju tujuan tersebut. Salah satu contoh algoritma yang termasuk dalam kategori ini adalah A (A Star) * dan Greedy Best-First Search."
      ],
      "metadata": {
        "id": "wnoSmbfb6a7N"
      }
    },
    {
      "cell_type": "markdown",
      "source": [
        "### Ciri-ciri Informed Search"
      ],
      "metadata": {
        "id": "XDE_gvTy6bcB"
      }
    },
    {
      "cell_type": "markdown",
      "source": [
        "1.\tMenggunakan heuristik yang memberikan estimasi biaya atau jarak menuju tujuan.\n",
        "2.\tPencarian lebih terarah dan efisien karena algoritma memiliki informasi tambahan.\n",
        "3.\tBiasanya lebih cepat dibandingkan dengan Uninformed Search karena lebih fokus pada jalur yang lebih menjanjikan.\n",
        "4.\tA * dan Greedy Best-First Search adalah contoh dari algoritma Informed Search."
      ],
      "metadata": {
        "id": "Ter8Wtca6d5j"
      }
    },
    {
      "cell_type": "markdown",
      "source": [
        "### Kapan Informed Search Cocok Digunakan?"
      ],
      "metadata": {
        "id": "Jr0W7_7i6gU5"
      }
    },
    {
      "cell_type": "markdown",
      "source": [
        "1.\tKetika ada informasi tambahan yang bisa digunakan untuk mempercepat pencarian, seperti estimasi biaya menuju tujuan (heuristik).\n",
        "2.\tJika masalah yang dihadapi memiliki banyak solusi yang mungkin, namun hanya satu yang optimal, sehingga heuristik dapat digunakan untuk memilih jalur yang paling menjanjikan.\n",
        "3.\tMisalnya dalam pencarian jalur terpendek, di mana setiap langkah memiliki biaya atau waktu yang berbeda."
      ],
      "metadata": {
        "id": "4GFJeAY96l-_"
      }
    },
    {
      "cell_type": "markdown",
      "source": [
        "### Contoh Kasus"
      ],
      "metadata": {
        "id": "to7guAYP06Ne"
      }
    },
    {
      "cell_type": "markdown",
      "source": [
        "Berikut adalah dua algoritma yang sering digunakan dalam Informed Search :"
      ],
      "metadata": {
        "id": "B9rmWMrJ6sR3"
      }
    },
    {
      "cell_type": "markdown",
      "source": [
        "Greedy Best-First Search : Algoritma ini hanya mengandalkan heuristik untuk memilih jalur yang terlihat paling menjanjikan menuju tujuan. Algoritma ini tidak mempertimbangkan biaya yang telah dikeluarkan untuk mencapai suatu node, hanya jarak dari node tersebut ke tujuan."
      ],
      "metadata": {
        "id": "2NHM8GVP6yd0"
      }
    },
    {
      "cell_type": "markdown",
      "source": [
        "**Greedy Best-First Search**"
      ],
      "metadata": {
        "id": "EUOPLGZy08Kg"
      }
    },
    {
      "cell_type": "markdown",
      "source": [
        "Kode Implementasi Greedy Best-First Search :"
      ],
      "metadata": {
        "id": "0OPyyR5-65zi"
      }
    },
    {
      "cell_type": "code",
      "source": [
        "import heapq\n",
        "\n",
        "class Node:\n",
        "    def __init__(self, name, h):\n",
        "        self.name = name\n",
        "        self.h = h\n",
        "        self.f = h\n",
        "        self.parent = None\n",
        "\n",
        "    def __lt__(self, other):\n",
        "        return self.f < other.f\n",
        "\n",
        "def greedy_best_first(start, goal, neighbors, heuristic):\n",
        "    open_list = []\n",
        "    closed_list = set()\n",
        "    start_node = Node(start, heuristic[start])\n",
        "    heapq.heappush(open_list, start_node)\n",
        "\n",
        "    while open_list:\n",
        "        current_node = heapq.heappop(open_list)\n",
        "\n",
        "        if current_node.name == goal:\n",
        "            path = []\n",
        "            while current_node:\n",
        "                path.append(current_node.name)\n",
        "                current_node = current_node.parent\n",
        "            return path[::-1]\n",
        "\n",
        "        closed_list.add(current_node.name)\n",
        "\n",
        "        for neighbor, weight in neighbors[current_node.name]:\n",
        "            if neighbor in closed_list:\n",
        "                continue\n",
        "            neighbor_node = Node(neighbor, heuristic[neighbor])\n",
        "            neighbor_node.parent = current_node\n",
        "            heapq.heappush(open_list, neighbor_node)\n",
        "\n",
        "    return None\n",
        "\n",
        "neighbors = {\n",
        "    'A': [('B', 1), ('C', 4)],\n",
        "    'B': [('A', 1), ('C', 2), ('D', 5)],\n",
        "    'C': [('A', 4), ('B', 2), ('D', 1)],\n",
        "    'D': [('B', 5), ('C', 1)]\n",
        "}\n",
        "heuristic = {'A': 7, 'B': 6, 'C': 2, 'D': 0}\n",
        "\n",
        "start = 'A'\n",
        "goal = 'D'\n",
        "path = greedy_best_first(start, goal, neighbors, heuristic)\n",
        "print(\"Path found:\", path)"
      ],
      "metadata": {
        "colab": {
          "base_uri": "https://localhost:8080/"
        },
        "id": "cFBgsB--1A0k",
        "outputId": "aaa16161-9527-49ef-d341-dfdf3a4dc0b6"
      },
      "execution_count": null,
      "outputs": [
        {
          "output_type": "stream",
          "name": "stdout",
          "text": [
            "Path found: ['A', 'C', 'D']\n"
          ]
        }
      ]
    },
    {
      "cell_type": "markdown",
      "source": [
        "A Search* : A * adalah salah satu algoritma pencarian yang paling terkenal dalam kategori ini. A * menggunakan dua parameter :\n",
        "1. Biaya dari node asal menuju node yang sedang diproses, dan\n",
        "2. Heuristik yang memperkirakan biaya dari node tersebut ke tujuan.\n",
        "\n",
        "Kombinasi dari keduanya menghasilkan estimasi biaya total untuk setiap jalur, yang memungkinkan A* untuk memilih jalur terbaik."
      ],
      "metadata": {
        "id": "3QFtsLoj60UK"
      }
    },
    {
      "cell_type": "markdown",
      "source": [
        "**A Search* (Simplified)**"
      ],
      "metadata": {
        "id": "TSoU8dPW4Obv"
      }
    },
    {
      "cell_type": "markdown",
      "source": [
        "Kode Implementasi A Search* :"
      ],
      "metadata": {
        "id": "F9Z9xyKd68-L"
      }
    },
    {
      "cell_type": "code",
      "source": [
        "import heapq\n",
        "\n",
        "class Node:\n",
        "    def __init__(self, name, g, h):\n",
        "        self.name = name\n",
        "        self.g = g\n",
        "        self.h = h\n",
        "        self.f = g + h\n",
        "        self.parent = None\n",
        "\n",
        "    def __lt__(self, other):\n",
        "        return self.f < other.f\n",
        "\n",
        "def a_star(start, goal, neighbors, heuristic):\n",
        "    open_list = []\n",
        "    closed_list = set()\n",
        "    start_node = Node(start, 0, heuristic[start])\n",
        "    heapq.heappush(open_list, start_node)\n",
        "\n",
        "    while open_list:\n",
        "        current_node = heapq.heappop(open_list)\n",
        "\n",
        "        if current_node.name == goal:\n",
        "            path = []\n",
        "            while current_node:\n",
        "                path.append(current_node.name)\n",
        "                current_node = current_node.parent\n",
        "            return path[::-1]\n",
        "\n",
        "        closed_list.add(current_node.name)\n",
        "\n",
        "        for neighbor, weight in neighbors[current_node.name]:\n",
        "            if neighbor in closed_list:\n",
        "                continue\n",
        "            g = current_node.g + weight\n",
        "            h = heuristic[neighbor]\n",
        "            neighbor_node = Node(neighbor, g, h)\n",
        "            neighbor_node.parent = current_node\n",
        "            heapq.heappush(open_list, neighbor_node)\n",
        "\n",
        "    return None\n",
        "\n",
        "neighbors = {\n",
        "    'A': [('B', 1), ('C', 4)],\n",
        "    'B': [('A', 1), ('C', 2), ('D', 5)],\n",
        "    'C': [('A', 4), ('B', 2), ('D', 1)],\n",
        "    'D': [('B', 5), ('C', 1)]\n",
        "}\n",
        "heuristic = {'A': 7, 'B': 6, 'C': 2, 'D': 0}\n",
        "\n",
        "start = 'A'\n",
        "goal = 'D'\n",
        "path = a_star(start, goal, neighbors, heuristic)\n",
        "print(\"Path found:\", path)"
      ],
      "metadata": {
        "colab": {
          "base_uri": "https://localhost:8080/"
        },
        "id": "mJ8z6MLK4X3F",
        "outputId": "3d528377-cbcd-434a-93f8-2e9f916bb267"
      },
      "execution_count": null,
      "outputs": [
        {
          "output_type": "stream",
          "name": "stdout",
          "text": [
            "Path found: ['A', 'C', 'D']\n"
          ]
        }
      ]
    },
    {
      "cell_type": "markdown",
      "source": [
        "## Greedy Best-First Search"
      ],
      "metadata": {
        "id": "CJBPFHx18H6h"
      }
    },
    {
      "cell_type": "markdown",
      "source": [
        "### Apa itu Greedy Best-First Search?"
      ],
      "metadata": {
        "id": "OWJrSDWJ8QBQ"
      }
    },
    {
      "cell_type": "markdown",
      "source": [
        "Greedy Best-First Search adalah algoritma pencarian yang berusaha untuk menemukan jalur menuju tujuan secepat mungkin dengan memilih node berdasarkan perkiraan atau heuristik (estimasi jarak ke tujuan). Pada setiap langkahnya, algoritma ini memilih node yang memiliki nilai heuristik terbaik, yaitu yang paling dekat dengan tujuan menurut estimasi. Algoritma ini tidak mempertimbangkan biaya yang sudah dikeluarkan, hanya berdasarkan perkiraan jarak dari node ke tujuan."
      ],
      "metadata": {
        "id": "LaU4EgPX8vGg"
      }
    },
    {
      "cell_type": "markdown",
      "source": [
        "### Ciri-ciri Greedy Best-First Search"
      ],
      "metadata": {
        "id": "AHAKdYyT8Shn"
      }
    },
    {
      "cell_type": "markdown",
      "source": [
        "1.\tMenggunakan heuristik untuk memilih node yang paling menjanjikan.\n",
        "2.\tTidak mempertimbangkan biaya yang sudah dikeluarkan.\n",
        "3.\tBisa sangat cepat, tetapi tidak selalu menjamin jalur terpendek.\n",
        "4.\tMenggunakan open list untuk menyimpan node yang akan dieksplorasi selanjutnya."
      ],
      "metadata": {
        "id": "JMBJ1uVm8uOQ"
      }
    },
    {
      "cell_type": "markdown",
      "source": [
        "### Kapan Greedy Best-First Search Cocok Digunakan?"
      ],
      "metadata": {
        "id": "2RqGhT318U9W"
      }
    },
    {
      "cell_type": "markdown",
      "source": [
        "1.\tKetika kita ingin mencari solusi dengan cepat tanpa harus mencari jalur terpendek.\n",
        "2.\tMisalnya, pada aplikasi yang membutuhkan pencarian solusi yang \"cukup baik\" dalam waktu singkat (misalnya, permainan atau aplikasi navigasi yang memprioritaskan waktu)."
      ],
      "metadata": {
        "id": "q7drr8Jd83el"
      }
    },
    {
      "cell_type": "markdown",
      "source": [
        "### Contoh Kasus"
      ],
      "metadata": {
        "id": "JnTZqQCp8W5x"
      }
    },
    {
      "cell_type": "markdown",
      "source": [
        "Pada graf, Greedy Best-First Search akan memilih node berdasarkan heuristik yang paling mendekati tujuan, tetapi tidak memperhatikan jalur yang sudah diambil atau biaya yang telah dikeluarkan."
      ],
      "metadata": {
        "id": "nm7okGRp9Y13"
      }
    },
    {
      "cell_type": "code",
      "source": [
        "import heapq\n",
        "\n",
        "class Node:\n",
        "    def __init__(self, name, h):\n",
        "        self.name = name\n",
        "        self.h = h\n",
        "        self.f = h\n",
        "        self.parent = None\n",
        "\n",
        "    def __lt__(self, other):\n",
        "        return self.f < other.f\n",
        "\n",
        "def greedy_best_first(start, goal, neighbors, heuristic):\n",
        "    open_list = []\n",
        "    closed_list = set()\n",
        "    start_node = Node(start, heuristic[start])\n",
        "    heapq.heappush(open_list, start_node)\n",
        "\n",
        "    while open_list:\n",
        "        current_node = heapq.heappop(open_list)\n",
        "\n",
        "        if current_node.name == goal:\n",
        "            path = []\n",
        "            while current_node:\n",
        "                path.append(current_node.name)\n",
        "                current_node = current_node.parent\n",
        "            return path[::-1]\n",
        "\n",
        "        closed_list.add(current_node.name)\n",
        "\n",
        "        for neighbor, weight in neighbors[current_node.name]:\n",
        "            if neighbor in closed_list:\n",
        "                continue\n",
        "            neighbor_node = Node(neighbor, heuristic[neighbor])\n",
        "            neighbor_node.parent = current_node\n",
        "            heapq.heappush(open_list, neighbor_node)\n",
        "\n",
        "    return None\n",
        "\n",
        "neighbors = {\n",
        "    'A': [('B', 1), ('C', 4)],\n",
        "    'B': [('A', 1), ('C', 2), ('D', 5)],\n",
        "    'C': [('A', 4), ('B', 2), ('D', 1)],\n",
        "    'D': [('B', 5), ('C', 1)]\n",
        "}\n",
        "heuristic = {'A': 7, 'B': 6, 'C': 2, 'D': 0}\n",
        "\n",
        "start = 'A'\n",
        "goal = 'D'\n",
        "path = greedy_best_first(start, goal, neighbors, heuristic)\n",
        "print(\"Path found:\", path)"
      ],
      "metadata": {
        "colab": {
          "base_uri": "https://localhost:8080/"
        },
        "id": "PSepuIs79sG1",
        "outputId": "5d7e6609-ee49-4b5a-aab9-d9627ea9da01"
      },
      "execution_count": null,
      "outputs": [
        {
          "output_type": "stream",
          "name": "stdout",
          "text": [
            "Path found: ['A', 'C', 'D']\n"
          ]
        }
      ]
    },
    {
      "cell_type": "markdown",
      "source": [
        "## A * Search"
      ],
      "metadata": {
        "id": "v5IzMdn88La8"
      }
    },
    {
      "cell_type": "markdown",
      "source": [
        "### Apa itu A* Search?"
      ],
      "metadata": {
        "id": "vFzXbLgRB9S-"
      }
    },
    {
      "cell_type": "markdown",
      "source": [
        "A* Search adalah algoritma pencarian jalur yang menggunakan dua informasi :\n",
        "1. Jarak yang sudah ditempuh dari titik awal ke titik sekarang (g(n)), dan\n",
        "2. Perkiraan jarak ke tujuan dari titik sekarang (h(n) atau heuristik).\n",
        "\n",
        "Keduanya digabungkan menjadi : f(n) = g(n) + h(n). Jadi, A* akan memilih jalur yang paling menjanjikan menuju tujuan, bukan hanya yang dekat atau cepat saja."
      ],
      "metadata": {
        "id": "gqnwavq7CMfc"
      }
    },
    {
      "cell_type": "markdown",
      "source": [
        "### Ciri-ciri A * Search"
      ],
      "metadata": {
        "id": "Y7lGdOCEB_qC"
      }
    },
    {
      "cell_type": "markdown",
      "source": [
        "1.\tMenggunakan heuristik (perkiraan) untuk membantu pencarian.\n",
        "2.\tDapat menemukan jalur terpendek jika heuristiknya tepat.\n",
        "3.\tLebih efisien dibanding BFS atau DFS dalam banyak kasus."
      ],
      "metadata": {
        "id": "i4LhJtSLCI7W"
      }
    },
    {
      "cell_type": "markdown",
      "source": [
        "### Kapan A * Cocok Digunakan?"
      ],
      "metadata": {
        "id": "6H4TBgTCCCNv"
      }
    },
    {
      "cell_type": "markdown",
      "source": [
        "1.\tSaat kita punya informasi perkiraan jarak ke tujuan.\n",
        "2.\tDigunakan di sistem navigasi, game, atau aplikasi peta."
      ],
      "metadata": {
        "id": "DS5G4IYLCHxa"
      }
    },
    {
      "cell_type": "markdown",
      "source": [
        "### Contoh Kasus"
      ],
      "metadata": {
        "id": "GkrbXAcV9yqp"
      }
    },
    {
      "cell_type": "code",
      "source": [
        "import heapq\n",
        "\n",
        "class Node:\n",
        "    def __init__(self, name, g, h):\n",
        "        self.name = name\n",
        "        self.g = g\n",
        "        self.h = h\n",
        "        self.f = g + h\n",
        "        self.parent = None\n",
        "\n",
        "    def __lt__(self, other):\n",
        "        return self.f < other.f\n",
        "\n",
        "def a_star(start, goal, neighbors, heuristic):\n",
        "    open_list = []\n",
        "    closed_list = set()\n",
        "    start_node = Node(start, 0, heuristic[start])\n",
        "    heapq.heappush(open_list, start_node)\n",
        "\n",
        "    while open_list:\n",
        "        current_node = heapq.heappop(open_list)\n",
        "\n",
        "        if current_node.name == goal:\n",
        "            path = []\n",
        "            while current_node:\n",
        "                path.append(current_node.name)\n",
        "                current_node = current_node.parent\n",
        "            return path[::-1]\n",
        "\n",
        "        closed_list.add(current_node.name)\n",
        "\n",
        "        for neighbor, weight in neighbors[current_node.name]:\n",
        "            if neighbor in closed_list:\n",
        "                continue\n",
        "            g = current_node.g + weight\n",
        "            h = heuristic[neighbor]\n",
        "            neighbor_node = Node(neighbor, g, h)\n",
        "            neighbor_node.parent = current_node\n",
        "            heapq.heappush(open_list, neighbor_node)\n",
        "\n",
        "    return None\n",
        "\n",
        "neighbors = {\n",
        "    'A': [('B', 1), ('C', 4)],\n",
        "    'B': [('A', 1), ('C', 2), ('D', 5)],\n",
        "    'C': [('A', 4), ('B', 2), ('D', 1)],\n",
        "    'D': [('B', 5), ('C', 1)]\n",
        "}\n",
        "heuristic = {'A': 7, 'B': 6, 'C': 2, 'D': 0}\n",
        "\n",
        "start = 'A'\n",
        "goal = 'D'\n",
        "path = a_star(start, goal, neighbors, heuristic)\n",
        "print(\"Path found:\", path)"
      ],
      "metadata": {
        "colab": {
          "base_uri": "https://localhost:8080/"
        },
        "id": "6alv1ik390FB",
        "outputId": "53a74ee0-b5bd-4b4f-93c4-8d87fdc5bf47"
      },
      "execution_count": null,
      "outputs": [
        {
          "output_type": "stream",
          "name": "stdout",
          "text": [
            "Path found: ['A', 'C', 'D']\n"
          ]
        }
      ]
    }
  ]
}