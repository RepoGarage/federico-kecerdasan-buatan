{
  "nbformat": 4,
  "nbformat_minor": 0,
  "metadata": {
    "colab": {
      "provenance": []
    },
    "kernelspec": {
      "name": "python3",
      "display_name": "Python 3"
    },
    "language_info": {
      "name": "python"
    }
  },
  "cells": [
    {
      "cell_type": "markdown",
      "source": [
        "# Kecerdasan Buatan"
      ],
      "metadata": {
        "id": "JWU2PsZfm_LX"
      }
    },
    {
      "cell_type": "markdown",
      "source": [
        "## MBTI - Metode Bayesian"
      ],
      "metadata": {
        "id": "LoOUBzrYnCER"
      }
    },
    {
      "cell_type": "markdown",
      "source": [
        "### Member of Group"
      ],
      "metadata": {
        "id": "g10awvSGnICD"
      }
    },
    {
      "cell_type": "markdown",
      "source": [
        "- Elisa Bayu Hendra - 233401015\n",
        "- Yohanes Emmanuel Putra Sutanto - 233401017\n",
        "- Federico Matthew Pratama - 233405001\n",
        "- Fernando Perry - 233406005\n",
        "- Vincentius Johanes Lwie Jaya - 233408010\n",
        "- Yohanes Bramanta Adita Saputra - 233409009"
      ],
      "metadata": {
        "id": "YKfUpgwhoaQ-"
      }
    },
    {
      "cell_type": "markdown",
      "source": [
        "```data.csv``` MBTI Example Question"
      ],
      "metadata": {
        "id": "FasJRQuCTS8W"
      }
    },
    {
      "cell_type": "code",
      "source": [
        "type,question,score5,score4,score3,score2,score1\n",
        "\"EI\",\"I feel energized after spending time with a group of people.\",\"0.9|0.3\",\"0.7|0.4\",\"0.5|0.5\",\"0.3|0.7\",\"0.1|0.8\"\n",
        "\"EI\",\"I prefer to focus on one thing at a time.\",\"0.8|0.3\",\"0.6|0.5\",\"0.4|0.6\",\"0.2|0.8\",\"0.1|0.9\"\n",
        "\"EI\",\"Being with others boosts my energy levels.\",\"0.8|0.4\",\"0.7|0.5\",\"0.5|0.6\",\"0.3|0.7\",\"0.2|0.8\"\n",
        "\"EI\",\"Socializing drains me after a while.\",\"0.2|0.8\",\"0.3|0.7\",\"0.5|0.5\",\"0.7|0.4\",\"0.9|0.3\"\n",
        "\"SN\",\"I enjoy learning about new abstract concepts.\",\"0.7|0.4\",\"0.6|0.5\",\"0.5|0.5\",\"0.4|0.6\",\"0.3|0.7\"\n",
        "\"SN\",\"I tend to trust more on facts than intuition.\",\"0.5|0.7\",\"0.4|0.6\",\"0.6|0.4\",\"0.7|0.3\",\"0.8|0.1\"\n",
        "\"SN\",\"I prefer working with concrete information.\",\"0.4|0.6\",\"0.5|0.5\",\"0.6|0.4\",\"0.7|0.3\",\"0.8|0.2\"\n",
        "\"SN\",\"I enjoy brainstorming new, abstract ideas.\",\"0.7|0.3\",\"0.6|0.5\",\"0.5|0.5\",\"0.4|0.6\",\"0.2|0.8\"\n",
        "\"TF\",\"I value logic and consistency in decision making.\",\"0.9|0.3\",\"0.8|0.4\",\"0.6|0.5\",\"0.4|0.7\",\"0.3|0.8\"\n",
        "\"TF\",\"I make decisions based on how they will affect others.\",\"0.3|0.8\",\"0.5|0.7\",\"0.7|0.6\",\"0.8|0.4\",\"0.9|0.2\"\n",
        "\"TF\",\"I make decisions quickly and logically.\",\"0.8|0.4\",\"0.7|0.5\",\"0.5|0.6\",\"0.3|0.7\",\"0.2|0.8\"\n",
        "\"TF\",\"I tend to consider the emotional impact of my decisions.\",\"0.2|0.8\",\"0.4|0.7\",\"0.6|0.5\",\"0.8|0.4\",\"0.9|0.3\"\n",
        "\"JP\",\"I prefer having a planned schedule.\",\"0.8|0.4\",\"0.7|0.5\",\"0.6|0.6\",\"0.4|0.7\",\"0.3|0.9\"\n",
        "\"JP\",\"I prefer being flexible and spontaneous.\",\"0.3|0.8\",\"0.4|0.7\",\"0.5|0.6\",\"0.7|0.5\",\"0.9|0.3\"\n",
        "\"JP\",\"I like to know what I’ll be doing next.\",\"0.8|0.4\",\"0.7|0.5\",\"0.6|0.6\",\"0.5|0.7\",\"0.3|0.9\"\n",
        "\"JP\",\"I thrive when there is room for last-minute changes.\",\"0.4|0.7\",\"0.5|0.6\",\"0.6|0.5\",\"0.7|0.4\",\"0.9|0.2\"\n",
        "\"EI\",\"I need my own space to recharge after social events.\",\"0.1|0.9\",\"0.3|0.7\",\"0.5|0.5\",\"0.7|0.3\",\"0.9|0.2\"\n",
        "\"SN\",\"I find it easier to trust my intuition than facts.\",\"0.6|0.4\",\"0.5|0.5\",\"0.4|0.6\",\"0.3|0.7\",\"0.2|0.8\"\n",
        "\"TF\",\"I prefer to take a logical approach in resolving conflicts.\",\"0.9|0.3\",\"0.7|0.5\",\"0.6|0.4\",\"0.4|0.6\",\"0.3|0.7\"\n",
        "\"JP\",\"I enjoy having a to-do list to keep track of my tasks.\",\"0.8|0.4\",\"0.7|0.5\",\"0.6|0.6\",\"0.4|0.7\",\"0.2|0.9\""
      ],
      "metadata": {
        "id": "prJoAioTTYDf"
      },
      "execution_count": null,
      "outputs": []
    },
    {
      "cell_type": "markdown",
      "source": [
        "```data_fetcher``` Code Example"
      ],
      "metadata": {
        "id": "GPXvgjwTTIDI"
      }
    },
    {
      "cell_type": "code",
      "source": [
        "import csv\n",
        "\n",
        "# Note :\n",
        "\n",
        "# Type\n",
        "# E (Extraversion) vs I (Introversion)\n",
        "# S (Sensing) vs N (iNtuition)\n",
        "# T (Thinking) vs F (Feeling)\n",
        "# J (Judging) vs P (Perceiving)\n",
        "\n",
        "# Score\n",
        "# score1: ketika user menjawab 1 (Strongly Disagree)\n",
        "# score2: ketika user menjawab 2 (Disagree)\n",
        "# score3: ketika user menjawab 3 (Neutral)\n",
        "# score4: ketika user menjawab 4 (Agree)\n",
        "# score5: ketika user menjawab 5 (Strongly Agree)\n",
        "\n",
        "class DataFetcher:\n",
        "    def __init__(self, file_path: str) -> None:\n",
        "        # Declare Data type\n",
        "        self.data: list[tuple[str, dict[int, dict[str, float]]]] = []\n",
        "        # Open CSV\n",
        "        with open(file_path, 'r', newline='', encoding='utf-8') as f:\n",
        "            # Read the CSV\n",
        "            reader = csv.DictReader(f)\n",
        "            # Looping per data Row\n",
        "            for row in reader:\n",
        "                trait_type = row['type']\n",
        "                question = row['question']\n",
        "                scores = {}\n",
        "                # Update Score based pipe split\n",
        "                for level in range(1, 6):\n",
        "                    key = f'score{level}'\n",
        "                    trait1_score, trait2_score = map(float, row[key].split('|'))\n",
        "                    scores[level] = {trait_type[0]: trait1_score, trait_type[1]: trait2_score}\n",
        "                self.data.append((question, scores))\n"
      ],
      "metadata": {
        "id": "CFhS_POkTO9O"
      },
      "execution_count": null,
      "outputs": []
    },
    {
      "cell_type": "markdown",
      "source": [
        "```Bayesian``` Code Example"
      ],
      "metadata": {
        "id": "dR-9OYA7ozqM"
      }
    },
    {
      "cell_type": "code",
      "source": [
        "# Import Dataset dari data_fetcher\n",
        "from data_fetcher import DataFetcher\n",
        "\n",
        "# Class utama MBTI\n",
        "class BayesianMBTIApp:\n",
        "    def __init__(self):\n",
        "        # Probabilitas 16 tipe\n",
        "        self.mbti_types = [\n",
        "            \"ISTJ\",  # Introverted, Sensing, Thinking, Judging\n",
        "            \"ISFJ\",  # Introverted, Sensing, Feeling, Judging\n",
        "            \"INFJ\",  # Introverted, Intuitive, Feeling, Judging\n",
        "            \"INTJ\",  # Introverted, Intuitive, Thinking, Judging\n",
        "            \"ISTP\",  # Introverted, Sensing, Thinking, Perceiving\n",
        "            \"ISFP\",  # Introverted, Sensing, Feeling, Perceiving\n",
        "            \"INFP\",  # Introverted, Intuitive, Feeling, Perceiving\n",
        "            \"INTP\",  # Introverted, Intuitive, Thinking, Perceiving\n",
        "            \"ESTP\",  # Extraverted, Sensing, Thinking, Perceiving\n",
        "            \"ESFP\",  # Extraverted, Sensing, Feeling, Perceiving\n",
        "            \"ENFP\",  # Extraverted, Intuitive, Feeling, Perceiving\n",
        "            \"ENTP\",  # Extraverted, Intuitive, Thinking, Perceiving\n",
        "            \"ESTJ\",  # Extraverted, Sensing, Thinking, Judging\n",
        "            \"ESFJ\",  # Extraverted, Sensing, Feeling, Judging\n",
        "            \"ENFJ\",  # Extraverted, Intuitive, Feeling, Judging\n",
        "            \"ENTJ\",  # Extraverted, Intuitive, Thinking, Judging\n",
        "        ]\n",
        "\n",
        "        # Deskripsi singkat tiap tipe MBTI\n",
        "        self.mbti_descriptions = {\n",
        "            \"ISTJ\": \"ISTJ (The Inspector): Teliti, bertanggung jawab, dan sangat menghargai tradisi.\",\n",
        "            \"ISFJ\": \"ISFJ (The Protector): Pendiam, penuh perhatian, setia, dan suka membantu.\",\n",
        "            \"INFJ\": \"INFJ (The Advocate): Visioner, idealis, dan sangat peduli terhadap nilai-nilai.\",\n",
        "            \"INTJ\": \"INTJ (The Mastermind): Strategis, logis, dan memiliki rencana jangka panjang.\",\n",
        "            \"ISTP\": \"ISTP (The Crafter): Praktis, tenang dalam krisis, suka eksperimen dan tantangan teknis.\",\n",
        "            \"ISFP\": \"ISFP (The Artist): Sensitif, artistik, menikmati kebebasan pribadi.\",\n",
        "            \"INFP\": \"INFP (The Mediator): Idealistis, penuh empati, dan dipandu oleh nilai-nilai pribadi.\",\n",
        "            \"INTP\": \"INTP (The Thinker): Analitis, logis, dan suka berpikir mendalam.\",\n",
        "            \"ESTP\": \"ESTP (The Dynamo): Enerjik, spontan, menyukai tantangan dan tindakan langsung.\",\n",
        "            \"ESFP\": \"ESFP (The Performer): Ceria, ekspresif, suka berada di pusat perhatian.\",\n",
        "            \"ENFP\": \"ENFP (The Campaigner): Antusias, kreatif, dan sangat terbuka terhadap ide-ide baru.\",\n",
        "            \"ENTP\": \"ENTP (The Visionary): Penuh ide, suka debat, dan berpikiran terbuka.\",\n",
        "            \"ESTJ\": \"ESTJ (The Supervisor): Terorganisir, suka mengatur, dan sangat praktis.\",\n",
        "            \"ESFJ\": \"ESFJ (The Provider): Ramah, kooperatif, dan sangat peduli terhadap orang lain.\",\n",
        "            \"ENFJ\": \"ENFJ (The Protagonist): Karismatik, menginspirasi, dan suka memimpin.\",\n",
        "            \"ENTJ\": \"ENTJ (The Commander): Tegas, strategis, dan lahir sebagai pemimpin.\"\n",
        "        }\n",
        "\n",
        "        # Inisialisasi setiap pertanyaan menjadi probabilitas 1/16\n",
        "        self.type_probabilities = {mbti_type: 1/16 for mbti_type in self.mbti_types}\n",
        "\n",
        "        # Load Data Question\n",
        "        data = DataFetcher(\"./data.csv\")\n",
        "        self.questions = data.data\n",
        "\n",
        "    # Fungsi untuk mengupdate probabilitas\n",
        "    def update_probabilities(self, answer_likelihoods):\n",
        "        for mbti_type in self.mbti_types:\n",
        "            # Mengambil nilai yang ada\n",
        "            probability = self.type_probabilities[mbti_type]\n",
        "\n",
        "            # Mengambil per type (16 type)\n",
        "            for i, letter in enumerate(mbti_type):\n",
        "                if letter in answer_likelihoods:\n",
        "                    probability *= answer_likelihoods[letter]\n",
        "\n",
        "            # Mengudpate nilai yang ada\n",
        "            self.type_probabilities[mbti_type] = probability\n",
        "\n",
        "        # Semua totalnya di jumlah\n",
        "        total = sum(self.type_probabilities.values())\n",
        "        if total > 0:\n",
        "            # Looping satu per satu, dan score per type di bagi lagi dengan total untuk normalisasi\n",
        "            for mbti_type in self.type_probabilities:\n",
        "                self.type_probabilities[mbti_type] /= total\n",
        "\n",
        "    # Mengambil nilai yang paling besar\n",
        "    def get_most_probable_type(self):\n",
        "        return max(self.type_probabilities, key=self.type_probabilities.get)\n",
        "\n",
        "    # Print tampilan pertanyaan\n",
        "    def run(self):\n",
        "        print(\"Welcome to the Bayesian MBTI Test!\")\n",
        "        print(\"Answer each question from 1 (Strongly Disagree) to 5 (Strongly Agree).\")\n",
        "\n",
        "        for idx, (question, answer_likelihoods) in enumerate(self.questions):\n",
        "            print(f\"\\nQuestion {idx+1}: {question}\")\n",
        "            while True:\n",
        "                answer = int(input(\"Your answer (1-5): \"))\n",
        "                if answer in [1, 2, 3, 4, 5]:\n",
        "                    break\n",
        "                else:\n",
        "                    print(\"Please enter a number between 1 and 5.\")\n",
        "\n",
        "            # Kalau ditemukan jawaban, maka update si probabilities\n",
        "            if answer in answer_likelihoods:\n",
        "                self.update_probabilities(answer_likelihoods[answer])\n",
        "            else:\n",
        "                print(\"Warning: No likelihood data for this answer. Skipping update.\")\n",
        "\n",
        "        # Mengambil probabilitas terbesar\n",
        "        final_type = self.get_most_probable_type()\n",
        "        description = self.mbti_descriptions.get(final_type, \"Deskripsi tidak tersedia.\")\n",
        "        print(f\"\\nYour MBTI type is most likely: {final_type}\")\n",
        "        print(f\"{description}\")\n",
        "\n",
        "if __name__ == \"__main__\":\n",
        "    app = BayesianMBTIApp()\n",
        "    app.run()"
      ],
      "metadata": {
        "colab": {
          "base_uri": "https://localhost:8080/"
        },
        "id": "YNl32ySKn9HR",
        "outputId": "17838313-e78c-4e9d-db03-5922ecf87957"
      },
      "execution_count": null,
      "outputs": [
        {
          "output_type": "stream",
          "name": "stdout",
          "text": [
            "Welcome to the Bayesian MBTI Test!\n",
            "Answer each question from 1 (Strongly Disagree) to 5 (Strongly Agree).\n",
            "\n",
            "Question 1: I feel energized after spending time with a group of people.\n",
            "Your answer (1-5): 5\n",
            "\n",
            "Question 2: I prefer to focus on one thing at a time.\n",
            "Your answer (1-5): 5\n",
            "\n",
            "Question 3: Being with others boosts my energy levels.\n",
            "Your answer (1-5): 5\n",
            "\n",
            "Question 4: Socializing drains me after a while.\n",
            "Your answer (1-5): 5\n",
            "\n",
            "Question 5: I enjoy learning about new abstract concepts.\n",
            "Your answer (1-5): 5\n",
            "\n",
            "Question 6: I tend to trust more on facts than intuition.\n",
            "Your answer (1-5): 5\n",
            "\n",
            "Question 7: I prefer working with concrete information.\n",
            "Your answer (1-5): 5\n",
            "\n",
            "Question 8: I enjoy brainstorming new, abstract ideas.\n",
            "Your answer (1-5): 5\n",
            "\n",
            "Question 9: I value logic and consistency in decision making.\n",
            "Your answer (1-5): 5\n",
            "\n",
            "Question 10: I make decisions based on how they will affect others.\n",
            "Your answer (1-5): 5\n",
            "\n",
            "Question 11: I make decisions quickly and logically.\n",
            "Your answer (1-5): 5\n",
            "\n",
            "Question 12: I tend to consider the emotional impact of my decisions.\n",
            "Your answer (1-5): 5\n",
            "\n",
            "Question 13: I prefer having a planned schedule.\n",
            "Your answer (1-5): 5\n",
            "\n",
            "Question 14: I prefer being flexible and spontaneous.\n",
            "Your answer (1-5): 5\n",
            "\n",
            "Question 15: I like to know what I’ll be doing next.\n",
            "Your answer (1-5): 5\n",
            "\n",
            "Question 16: I thrive when there is room for last-minute changes.\n",
            "Your answer (1-5): 5\n",
            "\n",
            "Question 17: I need my own space to recharge after social events.\n",
            "Your answer (1-5): 5\n",
            "\n",
            "Question 18: I find it easier to trust my intuition than facts.\n",
            "Your answer (1-5): 5\n",
            "\n",
            "Question 19: I prefer to take a logical approach in resolving conflicts.\n",
            "Your answer (1-5): 5\n",
            "\n",
            "Question 20: I enjoy having a to-do list to keep track of my tasks.\n",
            "Your answer (1-5): 5\n",
            "\n",
            "Your MBTI type is most likely: ISTJ\n",
            "ISTJ (The Inspector): Teliti, bertanggung jawab, dan sangat menghargai tradisi.\n"
          ]
        }
      ]
    }
  ]
}