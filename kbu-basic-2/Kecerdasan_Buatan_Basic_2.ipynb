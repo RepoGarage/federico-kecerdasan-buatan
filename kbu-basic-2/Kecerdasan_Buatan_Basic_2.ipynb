{
  "cells": [
    {
      "cell_type": "markdown",
      "metadata": {
        "id": "fSlzLHRuM_su"
      },
      "source": [
        "# Kecerdasan Buatan Basic 2"
      ]
    },
    {
      "cell_type": "markdown",
      "metadata": {
        "id": "qPnw2e8eNDnM"
      },
      "source": [
        "## Federico Matthew Pratama - 233405001"
      ]
    },
    {
      "cell_type": "markdown",
      "metadata": {
        "id": "JhJyaUy7NGks"
      },
      "source": [
        "## Adversarial Search (Tic-Tac-Toe)"
      ]
    },
    {
      "cell_type": "markdown",
      "metadata": {
        "id": "2OmoObgIN9on"
      },
      "source": [
        "### Pengertian"
      ]
    },
    {
      "cell_type": "markdown",
      "metadata": {
        "id": "6_7iaFWCN-_n"
      },
      "source": [
        "Adversarial search adalah proses pencarian solusi optimal dalam situasi kompetitif, di mana ada dua atau lebih pihak yang saling berlawanan (misal: dua pemain dalam permainan). Pada Tic-Tac-Toe, adversarial search digunakan untuk mencari langkah terbaik agar menang atau minimal tidak kalah."
      ]
    },
    {
      "cell_type": "markdown",
      "metadata": {
        "id": "dXUZ_Tx0OEmx"
      },
      "source": [
        "### Ciri-ciri"
      ]
    },
    {
      "cell_type": "markdown",
      "metadata": {
        "id": "Ic4r9US5OGQi"
      },
      "source": [
        "- Melibatkan dua pihak yang saling bersaing (misal: X dan O).\n",
        "- Setiap pemain berusaha memaksimalkan kemenangannya dan meminimalkan peluang lawan.\n",
        "- Menggunakan struktur pohon keputusan (game tree).\n",
        "- Ada giliran (turn-based).\n",
        "- Hasilnya bisa menang, kalah, atau seri.\n",
        "- Setiap kemungkinan langkah dievaluasi secara sistematis."
      ]
    },
    {
      "cell_type": "markdown",
      "metadata": {
        "id": "C_cSga9hOKLW"
      },
      "source": [
        "### Tujuan"
      ]
    },
    {
      "cell_type": "markdown",
      "metadata": {
        "id": "DqDKSfboOLH3"
      },
      "source": [
        "- Mengembangkan kecerdasan buatan yang dapat bermain optimal dalam game kompetitif.\n",
        "- Digunakan untuk simulasi strategi dalam permainan papan, seperti Tic-Tac-Toe, catur, dan dam."
      ]
    },
    {
      "cell_type": "markdown",
      "metadata": {
        "id": "lbKvOg-7OM9T"
      },
      "source": [
        "### Kelebihan"
      ]
    },
    {
      "cell_type": "markdown",
      "metadata": {
        "id": "ZyJYWFobOQOK"
      },
      "source": [
        "- Memberikan solusi optimal untuk permainan sederhana.\n",
        "- Dapat menganalisis strategi lawan.\n",
        "- Cocok untuk game dengan ruang status kecil."
      ]
    },
    {
      "cell_type": "markdown",
      "metadata": {
        "id": "C2wD5dJyOOoH"
      },
      "source": [
        "### Kekurangan"
      ]
    },
    {
      "cell_type": "markdown",
      "metadata": {
        "id": "sJ5Zmvl-OS5x"
      },
      "source": [
        "- Tidak efisien untuk permainan yang ruang statusnya sangat besar tanpa optimasi.\n",
        "- Membutuhkan waktu dan memori besar untuk game kompleks."
      ]
    },
    {
      "cell_type": "markdown",
      "metadata": {
        "id": "-YzCd_dxOzuT"
      },
      "source": [
        "### Contoh Code"
      ]
    },
    {
      "cell_type": "code",
      "execution_count": null,
      "metadata": {
        "colab": {
          "background_save": true,
          "base_uri": "https://localhost:8080/"
        },
        "id": "9RZZrrrvO9Fv",
        "outputId": "f604358e-14dd-47a8-8e1f-d31a77b44ac3"
      },
      "outputs": [
        {
          "name": "stdout",
          "output_type": "stream",
          "text": [
            "Posisi index kotak pada papan:\n",
            "0 | 1 | 2\n",
            "3 | 4 | 5\n",
            "6 | 7 | 8\n",
            "\n",
            " | | \n",
            " | | \n",
            " | | \n",
            "\n",
            "O| | \n",
            " | | \n",
            " | | \n",
            "\n",
            "AI (X) memilih posisi 4\n",
            "O| | \n",
            " |X| \n",
            " | | \n",
            "\n",
            "O| | \n",
            " |O| \n",
            " | | \n",
            "\n",
            "AI (X) memilih posisi 1\n",
            "O|X| \n",
            " |O| \n",
            " | | \n",
            "\n"
          ]
        }
      ],
      "source": [
        "def print_board(board):\n",
        "    for i in range(3):\n",
        "        print(board[i*3] + '|' + board[i*3+1] + '|' + board[i*3+2])\n",
        "    print()\n",
        "\n",
        "def check_winner(board, player):\n",
        "    win_conditions = [\n",
        "        [0,1,2],[3,4,5],[6,7,8],\n",
        "        [0,3,6],[1,4,7],[2,5,8],\n",
        "        [0,4,8],[2,4,6],\n",
        "    ]\n",
        "    for condition in win_conditions:\n",
        "        if all(board[i] == player for i in condition):\n",
        "            return True\n",
        "    return False\n",
        "\n",
        "def is_full(board):\n",
        "    return all(cell != \" \" for cell in board)\n",
        "\n",
        "def minimax(board, is_X_turn):\n",
        "    if check_winner(board, \"X\"):\n",
        "        return 1\n",
        "    if check_winner(board, \"O\"):\n",
        "        return -1\n",
        "    if is_full(board):\n",
        "        return 0\n",
        "\n",
        "    if is_X_turn:\n",
        "        best_score = -float(\"inf\")\n",
        "        for i in range(9):\n",
        "            if board[i] == \" \":\n",
        "                board[i] = \"X\"\n",
        "                score = minimax(board, False)\n",
        "                board[i] = \" \"\n",
        "                if score > best_score:\n",
        "                    best_score = score\n",
        "        return best_score\n",
        "    else:\n",
        "        best_score = float(\"inf\")\n",
        "        for i in range(9):\n",
        "            if board[i] == \" \":\n",
        "                board[i] = \"O\"\n",
        "                score = minimax(board, True)\n",
        "                board[i] = \" \"\n",
        "                if score < best_score:\n",
        "                    best_score = score\n",
        "        return best_score\n",
        "\n",
        "def get_best_move(board):\n",
        "    best_move = None\n",
        "    best_score = -float(\"inf\")\n",
        "    for i in range(9):\n",
        "        if board[i] == \" \":\n",
        "            board[i] = \"X\"\n",
        "            score = minimax(board, False)\n",
        "            board[i] = \" \"\n",
        "            if score > best_score:\n",
        "                best_score = score\n",
        "                best_move = i\n",
        "    return best_move\n",
        "\n",
        "# ---- MAIN GAME LOOP ----\n",
        "board = [\" \"]*9\n",
        "print(\"Posisi index kotak pada papan:\")\n",
        "print(\"0 | 1 | 2\")\n",
        "print(\"3 | 4 | 5\")\n",
        "print(\"6 | 7 | 8\\n\")\n",
        "\n",
        "print_board(board)\n",
        "\n",
        "while True:\n",
        "    # 1. Human (O) move\n",
        "    while True:\n",
        "        try:\n",
        "            move = int(input(\"Masukkan posisi (0-8) untuk O: \"))\n",
        "            if 0 <= move <= 8:\n",
        "              if board[move] == \" \":\n",
        "                break\n",
        "              else:\n",
        "                print(\"Kotak sudah terisi, pilih yang lain.\")\n",
        "            else:\n",
        "                print(\"Masukkan angka antara 0 dan 8.\")\n",
        "        except ValueError:\n",
        "            print(\"Masukkan angka yang valid.\")\n",
        "    board[move] = \"O\"\n",
        "    print_board(board)\n",
        "    if check_winner(board, \"O\"):\n",
        "        print(\"Kamu (O) MENANG!\")\n",
        "        break\n",
        "    if is_full(board):\n",
        "        print(\"Permainan SERI!\")\n",
        "        break\n",
        "\n",
        "    # 2. AI (X) move\n",
        "    ai_move = get_best_move(board)\n",
        "    board[ai_move] = \"X\"\n",
        "    print(f\"AI (X) memilih posisi {ai_move}\")\n",
        "    print_board(board)\n",
        "    if check_winner(board, \"X\"):\n",
        "        print(\"AI (X) MENANG!\")\n",
        "        break\n",
        "    if is_full(board):\n",
        "        print(\"Permainan SERI!\")\n",
        "        break"
      ]
    },
    {
      "cell_type": "markdown",
      "metadata": {
        "id": "A126dJg3NJe_"
      },
      "source": [
        "## Optimization - Alpha-Beta Pruning"
      ]
    },
    {
      "cell_type": "markdown",
      "metadata": {
        "id": "kXboEQEgQ7XD"
      },
      "source": [
        "### Pengertian"
      ]
    },
    {
      "cell_type": "markdown",
      "metadata": {
        "id": "oRGxZhRnRFSs"
      },
      "source": [
        "Alpha-beta pruning adalah teknik optimasi pada algoritma Minimax, yang memangkas cabang pohon yang tidak perlu dievaluasi karena tidak akan mempengaruhi hasil akhir."
      ]
    },
    {
      "cell_type": "markdown",
      "metadata": {
        "id": "dXUcCDl2Q80z"
      },
      "source": [
        "### Ciri-ciri"
      ]
    },
    {
      "cell_type": "markdown",
      "metadata": {
        "id": "QOWeZSWvRMmI"
      },
      "source": [
        "- Menggunakan dua parameter: alpha (nilai maksimal yang dijamin oleh MAX) dan beta (nilai minimal yang dijamin oleh MIN).\n",
        "- Dapat mengurangi jumlah node yang harus dievaluasi.\n",
        "- Efisiensi sangat tergantung pada urutan pengecekan langkah."
      ]
    },
    {
      "cell_type": "markdown",
      "metadata": {
        "id": "bjTLa6MOQ-AP"
      },
      "source": [
        "### Tujuan"
      ]
    },
    {
      "cell_type": "markdown",
      "metadata": {
        "id": "qJbMzxfDRQDB"
      },
      "source": [
        "- Mempercepat proses pencarian solusi optimal pada game kompetitif.\n",
        "- Menghemat waktu dan memori."
      ]
    },
    {
      "cell_type": "markdown",
      "metadata": {
        "id": "kpIELntfQ_UU"
      },
      "source": [
        "### Kelebihan"
      ]
    },
    {
      "cell_type": "markdown",
      "metadata": {
        "id": "B6mbvaZzRR3T"
      },
      "source": [
        "- Jauh lebih efisien dari Minimax murni.\n",
        "- Dapat digunakan untuk game kompleks jika dioptimasi dengan baik."
      ]
    },
    {
      "cell_type": "markdown",
      "metadata": {
        "id": "a-rfgzVBRAgU"
      },
      "source": [
        "### Kekurangan"
      ]
    },
    {
      "cell_type": "markdown",
      "metadata": {
        "id": "ewoArTb1RTpC"
      },
      "source": [
        "- Implementasi sedikit lebih kompleks.\n",
        "- Efisiensi sangat bergantung pada urutan node."
      ]
    },
    {
      "cell_type": "markdown",
      "metadata": {
        "id": "Z-F_felKRCqs"
      },
      "source": [
        "### Contoh Kode"
      ]
    },
    {
      "cell_type": "code",
      "execution_count": null,
      "metadata": {
        "colab": {
          "base_uri": "https://localhost:8080/"
        },
        "id": "hIkUdyqQRZ4c",
        "outputId": "a61bdd3a-d56a-4e7b-e003-9c05c46417fc"
      },
      "outputs": [
        {
          "name": "stdout",
          "output_type": "stream",
          "text": [
            "Index posisi kotak:\n",
            "0 | 1 | 2\n",
            "3 | 4 | 5\n",
            "6 | 7 | 8\n",
            "\n",
            " | | \n",
            " | | \n",
            " | | \n",
            "\n",
            "Masukkan posisi (0-8) untuk O: 0\n",
            "O| | \n",
            " | | \n",
            " | | \n",
            "\n",
            "AI (X) memilih posisi 4\n",
            "O| | \n",
            " |X| \n",
            " | | \n",
            "\n",
            "Masukkan posisi (0-8) untuk O: 3\n",
            "O| | \n",
            "O|X| \n",
            " | | \n",
            "\n",
            "AI (X) memilih posisi 6\n",
            "O| | \n",
            "O|X| \n",
            "X| | \n",
            "\n",
            "Masukkan posisi (0-8) untuk O: 2\n",
            "O| |O\n",
            "O|X| \n",
            "X| | \n",
            "\n",
            "AI (X) memilih posisi 1\n",
            "O|X|O\n",
            "O|X| \n",
            "X| | \n",
            "\n",
            "Masukkan posisi (0-8) untuk O: 6\n",
            "O|X|O\n",
            "O|X| \n",
            "O| | \n",
            "\n",
            "Kamu (O) MENANG!\n"
          ]
        }
      ],
      "source": [
        "def print_board(board):\n",
        "    for i in range(3):\n",
        "        print(board[i*3] + '|' + board[i*3+1] + '|' + board[i*3+2])\n",
        "    print()\n",
        "\n",
        "def check_winner(board, player):\n",
        "    win_conditions = [\n",
        "        [0,1,2],[3,4,5],[6,7,8],\n",
        "        [0,3,6],[1,4,7],[2,5,8],\n",
        "        [0,4,8],[2,4,6],\n",
        "    ]\n",
        "    for condition in win_conditions:\n",
        "        if all(board[i] == player for i in condition):\n",
        "            return True\n",
        "    return False\n",
        "\n",
        "def is_full(board):\n",
        "    return all(cell != \" \" for cell in board)\n",
        "\n",
        "def alpha_beta(board, is_X_turn, alpha, beta):\n",
        "    if check_winner(board, \"X\"):\n",
        "        return 1\n",
        "    if check_winner(board, \"O\"):\n",
        "        return -1\n",
        "    if is_full(board):\n",
        "        return 0\n",
        "\n",
        "    if is_X_turn:\n",
        "        max_eval = -float(\"inf\")\n",
        "        for i in range(9):\n",
        "            if board[i] == \" \":\n",
        "                board[i] = \"X\"\n",
        "                eval = alpha_beta(board, False, alpha, beta)\n",
        "                board[i] = \" \"\n",
        "                max_eval = max(max_eval, eval)\n",
        "                alpha = max(alpha, eval)\n",
        "                if beta <= alpha:\n",
        "                    break\n",
        "        return max_eval\n",
        "    else:\n",
        "        min_eval = float(\"inf\")\n",
        "        for i in range(9):\n",
        "            if board[i] == \" \":\n",
        "                board[i] = \"O\"\n",
        "                eval = alpha_beta(board, True, alpha, beta)\n",
        "                board[i] = \" \"\n",
        "                min_eval = min(min_eval, eval)\n",
        "                beta = min(beta, eval)\n",
        "                if beta <= alpha:\n",
        "                    break\n",
        "        return min_eval\n",
        "\n",
        "def get_best_move_alpha_beta(board):\n",
        "    best_move = None\n",
        "    best_score = -float(\"inf\")\n",
        "    for i in range(9):\n",
        "        if board[i] == \" \":\n",
        "            board[i] = \"X\"\n",
        "            score = alpha_beta(board, False, -float(\"inf\"), float(\"inf\"))\n",
        "            board[i] = \" \"\n",
        "            if score > best_score:\n",
        "                best_score = score\n",
        "                best_move = i\n",
        "    return best_move\n",
        "\n",
        "# Contoh main sederhana: AI (X) vs Human (O)\n",
        "if __name__ == \"__main__\":\n",
        "    board = [\" \"] * 9\n",
        "    print(\"Index posisi kotak:\")\n",
        "    print(\"0 | 1 | 2\")\n",
        "    print(\"3 | 4 | 5\")\n",
        "    print(\"6 | 7 | 8\\n\")\n",
        "    print_board(board)\n",
        "\n",
        "    while True:\n",
        "        # Human (O) move\n",
        "        while True:\n",
        "          try:\n",
        "              move = int(input(\"Masukkan posisi (0-8) untuk O: \"))\n",
        "              if 0 <= move <= 8:\n",
        "                if board[move] == \" \":\n",
        "                  break  # Exit the inner loop if the move is valid\n",
        "                else:\n",
        "                  print(\"Kotak sudah terisi, pilih yang lain.\")\n",
        "              else:\n",
        "                  print(\"Masukkan angka antara 0 dan 8.\")\n",
        "          except ValueError:\n",
        "              print(\"Masukkan angka yang valid.\")\n",
        "        board[move] = \"O\"\n",
        "        print_board(board)\n",
        "        if check_winner(board, \"O\"):\n",
        "            print(\"Kamu (O) MENANG!\")\n",
        "            break\n",
        "        if is_full(board):\n",
        "            print(\"Permainan SERI!\")\n",
        "            break\n",
        "\n",
        "        # AI (X) move\n",
        "        ai_move = get_best_move_alpha_beta(board)\n",
        "        if ai_move is not None:\n",
        "            board[ai_move] = \"X\"\n",
        "            print(f\"AI (X) memilih posisi {ai_move}\")\n",
        "            print_board(board)\n",
        "            if check_winner(board, \"X\"):\n",
        "                print(\"AI (X) MENANG!\")\n",
        "                break\n",
        "            if is_full(board):\n",
        "                print(\"Permainan SERI!\")\n",
        "                break\n",
        "        else:\n",
        "            print(\"Tidak ada langkah tersisa.\")\n",
        "            break"
      ]
    },
    {
      "cell_type": "markdown",
      "metadata": {
        "id": "UNsxqPA0UdL2"
      },
      "source": [
        "Lalu apa bedanya Adversarial Search dengan Optimization - Alpha Beta Pruning ?"
      ]
    },
    {
      "cell_type": "markdown",
      "metadata": {
        "id": "jhQmqfvEUpB1"
      },
      "source": [
        "Letak bedanya terletak pada fungsi membaca input an \"O\" atau \"X\" masuk, yang dimana versi Alpha Beta sudah menyimpan minimax nya langsung yang menyebabkan ada sesuatu fungsi yang dapat dilewati namun versi Adversarial tidak dapat"
      ]
    },
    {
      "cell_type": "markdown",
      "metadata": {
        "id": "2SywQ5KfNM14"
      },
      "source": [
        "## Chess - Depth Limited Minimax"
      ]
    },
    {
      "cell_type": "markdown",
      "metadata": {
        "id": "tI9CPTOGXvoJ"
      },
      "source": [
        "### Pengertian"
      ]
    },
    {
      "cell_type": "markdown",
      "metadata": {
        "id": "LrIuZAL4X4hm"
      },
      "source": [
        "Depth Limited Minimax adalah variasi Minimax yang membatasi pencarian hanya sampai kedalaman tertentu (tidak seluruh pohon), sangat berguna untuk game besar seperti catur."
      ]
    },
    {
      "cell_type": "markdown",
      "metadata": {
        "id": "E9eCyOUDXw3s"
      },
      "source": [
        "### Ciri-ciri"
      ]
    },
    {
      "cell_type": "markdown",
      "metadata": {
        "id": "tRVAqSRAYKZF"
      },
      "source": [
        "- Ada batasan kedalaman pencarian (misal: 3 langkah ke depan).\n",
        "- Menggunakan fungsi evaluasi pada daun pohon (leaf node).\n",
        "- Bisa menghentikan pencarian lebih cepat."
      ]
    },
    {
      "cell_type": "markdown",
      "metadata": {
        "id": "T3awZKMRXx9D"
      },
      "source": [
        "### Tujuan"
      ]
    },
    {
      "cell_type": "markdown",
      "metadata": {
        "id": "zep0j6dJYJrd"
      },
      "source": [
        "- Mengontrol waktu dan sumber daya komputasi pada game kompleks.\n",
        "- Mendapat solusi cukup baik tanpa harus mencari sampai akhir."
      ]
    },
    {
      "cell_type": "markdown",
      "metadata": {
        "id": "Sos2b2IPX0VP"
      },
      "source": [
        "### Kelebihan"
      ]
    },
    {
      "cell_type": "markdown",
      "metadata": {
        "id": "epW86zSDYmJE"
      },
      "source": [
        "- Lebih cepat dibanding Minimax penuh.\n",
        "- Bisa diatur sesuai batas waktu komputer."
      ]
    },
    {
      "cell_type": "markdown",
      "metadata": {
        "id": "wDd8D5xtX15i"
      },
      "source": [
        "### Kekurangan"
      ]
    },
    {
      "cell_type": "markdown",
      "metadata": {
        "id": "u29PvjsQYdEb"
      },
      "source": [
        "- Solusi tidak selalu optimal.\n",
        "- Kualitas tergantung fungsi evaluasi dan kedalaman pencarian."
      ]
    },
    {
      "cell_type": "markdown",
      "metadata": {
        "id": "mxRnFboKX2uz"
      },
      "source": [
        "### Contoh Code"
      ]
    },
    {
      "cell_type": "code",
      "execution_count": null,
      "metadata": {
        "id": "R0C0EOJKYq_v"
      },
      "outputs": [],
      "source": [
        "def is_game_over(board):\n",
        "    \"\"\"\n",
        "    Memeriksa apakah permainan catur telah berakhir.\n",
        "    Mengembalikan True jika permainan selesai (skakmat, remis, atau hasil akhir lainnya),\n",
        "    dan False jika permainan masih berlangsung.\n",
        "    \"\"\"\n",
        "    # Dalam implementasi sederhana, periksa apakah raja masih ada\n",
        "    white_king_exists = False\n",
        "    black_king_exists = False\n",
        "\n",
        "    for row in board:\n",
        "        for piece in row:\n",
        "            if piece == 'K':\n",
        "                white_king_exists = True\n",
        "            elif piece == 'k':\n",
        "                black_king_exists = True\n",
        "\n",
        "    # Jika salah satu raja tidak ada, permainan berakhir\n",
        "    if not white_king_exists or not black_king_exists:\n",
        "        return True\n",
        "\n",
        "    # Periksa apakah ada gerakan yang mungkin untuk pemain saat ini\n",
        "    # Jika tidak ada gerakan yang mungkin, permainan berakhir (remis)\n",
        "    white_moves = len(get_chess_moves(board, 'white'))\n",
        "    black_moves = len(get_chess_moves(board, 'black'))\n",
        "\n",
        "    if (white_moves == 0) or (black_moves == 0):\n",
        "        return True\n",
        "\n",
        "    return False\n",
        "\n",
        "def get_opponent(player):\n",
        "    \"\"\"\n",
        "    Mengembalikan lawan dari pemain saat ini.\n",
        "    \"\"\"\n",
        "    return 'white' if player == 'black' else 'black'\n",
        "\n",
        "def get_chess_moves(board, player):\n",
        "    \"\"\"\n",
        "    Mengembalikan semua langkah yang mungkin untuk pemain saat ini.\n",
        "    Format langkah: tuple (from_pos, to_pos) di mana from_pos dan to_pos adalah tuple (row, col)\n",
        "    \"\"\"\n",
        "    moves = []\n",
        "\n",
        "    # Tentukan karakter bidak yang milik pemain saat ini\n",
        "    is_upper = (player == 'white')\n",
        "\n",
        "    # Scan seluruh papan untuk bidak pemain\n",
        "    for row in range(8):\n",
        "        for col in range(8):\n",
        "            piece = board[row][col]\n",
        "\n",
        "            # Lewati jika tidak ada bidak atau bidak lawan\n",
        "            if piece == ' ' or (is_upper and piece.islower()) or (not is_upper and piece.isupper()):\n",
        "                continue\n",
        "\n",
        "            # Dapatkan langkah yang mungkin untuk bidak ini\n",
        "            piece_moves = get_piece_moves(board, (row, col), piece, player)\n",
        "            moves.extend(piece_moves)\n",
        "\n",
        "    return moves\n",
        "\n",
        "def get_piece_moves(board, pos, piece, player):\n",
        "    \"\"\"\n",
        "    Mengembalikan semua langkah yang mungkin untuk bidak tertentu.\n",
        "    \"\"\"\n",
        "    row, col = pos\n",
        "    piece_type = piece.upper()\n",
        "    moves = []\n",
        "\n",
        "    # Arah pergerakan pion\n",
        "    pawn_direction = -1 if player == 'white' else 1\n",
        "\n",
        "    if piece_type == 'P':  # Pion\n",
        "        # Maju satu langkah\n",
        "        new_row = row + pawn_direction\n",
        "        if 0 <= new_row < 8 and board[new_row][col] == ' ':\n",
        "            moves.append((pos, (new_row, col)))\n",
        "\n",
        "            # Maju dua langkah jika dari posisi awal\n",
        "            if (player == 'white' and row == 6) or (player == 'black' and row == 1):\n",
        "                new_row = row + 2 * pawn_direction\n",
        "                if 0 <= new_row < 8 and board[new_row][col] == ' ':\n",
        "                    moves.append((pos, (new_row, col)))\n",
        "\n",
        "        # Ambil bidak diagonal\n",
        "        for dc in [-1, 1]:\n",
        "            new_col = col + dc\n",
        "            new_row = row + pawn_direction\n",
        "            if 0 <= new_row < 8 and 0 <= new_col < 8:\n",
        "                target = board[new_row][new_col]\n",
        "                if target != ' ' and ((player == 'white' and target.islower()) or\n",
        "                                      (player == 'black' and target.isupper())):\n",
        "                    moves.append((pos, (new_row, new_col)))\n",
        "\n",
        "    elif piece_type == 'R':  # Benteng\n",
        "        # Gerak horizontal dan vertikal\n",
        "        directions = [(0, 1), (1, 0), (0, -1), (-1, 0)]\n",
        "        for dr, dc in directions:\n",
        "            for i in range(1, 8):\n",
        "                new_row, new_col = row + i*dr, col + i*dc\n",
        "                if not (0 <= new_row < 8 and 0 <= new_col < 8):\n",
        "                    break\n",
        "                target = board[new_row][new_col]\n",
        "                if target == ' ':\n",
        "                    moves.append((pos, (new_row, new_col)))\n",
        "                elif (player == 'white' and target.islower()) or (player == 'black' and target.isupper()):\n",
        "                    moves.append((pos, (new_row, new_col)))\n",
        "                    break\n",
        "                else:\n",
        "                    break\n",
        "\n",
        "    elif piece_type == 'N':  # Kuda\n",
        "        knight_moves = [(2, 1), (1, 2), (-1, 2), (-2, 1), (-2, -1), (-1, -2), (1, -2), (2, -1)]\n",
        "        for dr, dc in knight_moves:\n",
        "            new_row, new_col = row + dr, col + dc\n",
        "            if 0 <= new_row < 8 and 0 <= new_col < 8:\n",
        "                target = board[new_row][new_col]\n",
        "                if target == ' ' or (player == 'white' and target.islower()) or (player == 'black' and target.isupper()):\n",
        "                    moves.append((pos, (new_row, new_col)))\n",
        "\n",
        "    elif piece_type == 'B':  # Gajah\n",
        "        # Gerak diagonal\n",
        "        directions = [(1, 1), (1, -1), (-1, 1), (-1, -1)]\n",
        "        for dr, dc in directions:\n",
        "            for i in range(1, 8):\n",
        "                new_row, new_col = row + i*dr, col + i*dc\n",
        "                if not (0 <= new_row < 8 and 0 <= new_col < 8):\n",
        "                    break\n",
        "                target = board[new_row][new_col]\n",
        "                if target == ' ':\n",
        "                    moves.append((pos, (new_row, new_col)))\n",
        "                elif (player == 'white' and target.islower()) or (player == 'black' and target.isupper()):\n",
        "                    moves.append((pos, (new_row, new_col)))\n",
        "                    break\n",
        "                else:\n",
        "                    break\n",
        "\n",
        "    elif piece_type == 'Q':  # Ratu (kombinasi benteng dan gajah)\n",
        "        # Gerak horizontal, vertikal, dan diagonal\n",
        "        directions = [(0, 1), (1, 0), (0, -1), (-1, 0), (1, 1), (1, -1), (-1, 1), (-1, -1)]\n",
        "        for dr, dc in directions:\n",
        "            for i in range(1, 8):\n",
        "                new_row, new_col = row + i*dr, col + i*dc\n",
        "                if not (0 <= new_row < 8 and 0 <= new_col < 8):\n",
        "                    break\n",
        "                target = board[new_row][new_col]\n",
        "                if target == ' ':\n",
        "                    moves.append((pos, (new_row, new_col)))\n",
        "                elif (player == 'white' and target.islower()) or (player == 'black' and target.isupper()):\n",
        "                    moves.append((pos, (new_row, new_col)))\n",
        "                    break\n",
        "                else:\n",
        "                    break\n",
        "\n",
        "    elif piece_type == 'K':  # Raja\n",
        "        # Gerak satu langkah ke segala arah\n",
        "        directions = [(0, 1), (1, 0), (0, -1), (-1, 0), (1, 1), (1, -1), (-1, 1), (-1, -1)]\n",
        "        for dr, dc in directions:\n",
        "            new_row, new_col = row + dr, col + dc\n",
        "            if 0 <= new_row < 8 and 0 <= new_col < 8:\n",
        "                target = board[new_row][new_col]\n",
        "                if target == ' ' or (player == 'white' and target.islower()) or (player == 'black' and target.isupper()):\n",
        "                    moves.append((pos, (new_row, new_col)))\n",
        "\n",
        "    return moves\n",
        "\n",
        "def make_chess_move(board, move, player):\n",
        "    \"\"\"\n",
        "    Melakukan langkah pada papan catur dan mengembalikan papan baru.\n",
        "    move adalah tuple (from_pos, to_pos) di mana from_pos dan to_pos adalah tuple (row, col)\n",
        "    \"\"\"\n",
        "    # Buat salinan papan agar tidak mengubah papan asli\n",
        "    new_board = [row[:] for row in board]\n",
        "\n",
        "    from_pos, to_pos = move\n",
        "    from_row, from_col = from_pos\n",
        "    to_row, to_col = to_pos\n",
        "\n",
        "    # Pindahkan bidak\n",
        "    piece = new_board[from_row][from_col]\n",
        "    new_board[from_row][from_col] = ' '\n",
        "    new_board[to_row][to_col] = piece\n",
        "\n",
        "    # Promosi pion (jika mencapai sisi papan)\n",
        "    if piece.upper() == 'P':\n",
        "        if (player == 'white' and to_row == 0) or (player == 'black' and to_row == 7):\n",
        "            new_board[to_row][to_col] = 'Q' if player == 'white' else 'q'  # Promosikan ke Ratu\n",
        "\n",
        "    return new_board\n",
        "\n",
        "def depth_limited_minimax(board, player, depth, is_maximizing):\n",
        "    \"\"\"\n",
        "    Implementasi Depth-Limited Minimax untuk menentukan nilai terbaik dari langkah.\n",
        "    \"\"\"\n",
        "    if depth == 0 or is_game_over(board):\n",
        "        return evaluate_board_heuristic(board, 'white' if is_maximizing else 'black')\n",
        "\n",
        "    if is_maximizing:  # Pemain MAX (white)\n",
        "        max_eval = -float('inf')\n",
        "        for move in get_chess_moves(board, player):\n",
        "            new_board = make_chess_move(board, move, player)\n",
        "            eval_score = depth_limited_minimax(new_board, get_opponent(player), depth - 1, False)\n",
        "            max_eval = max(max_eval, eval_score)\n",
        "        return max_eval\n",
        "    else:  # Pemain MIN (black)\n",
        "        min_eval = float('inf')\n",
        "        for move in get_chess_moves(board, player):\n",
        "            new_board = make_chess_move(board, move, player)\n",
        "            eval_score = depth_limited_minimax(new_board, get_opponent(player), depth - 1, True)\n",
        "            min_eval = min(min_eval, eval_score)\n",
        "        return min_eval\n",
        "\n",
        "def find_best_chess_move(board, player, depth):\n",
        "    \"\"\"\n",
        "    Menemukan langkah terbaik untuk pemain saat ini menggunakan Depth-Limited Minimax.\n",
        "    \"\"\"\n",
        "    best_move = None\n",
        "    best_value = -float('inf') if player == 'white' else float('inf')\n",
        "\n",
        "    for move in get_chess_moves(board, player):\n",
        "        new_board = make_chess_move(board, move, player)\n",
        "        next_player = get_opponent(player)\n",
        "        evaluation = depth_limited_minimax(new_board, next_player, depth - 1, player != 'white')\n",
        "\n",
        "        if player == 'white':  # Pemain MAX\n",
        "            if evaluation > best_value:\n",
        "                best_value = evaluation\n",
        "                best_move = move\n",
        "        else:  # Pemain MIN\n",
        "            if evaluation < best_value:\n",
        "                best_value = evaluation\n",
        "                best_move = move\n",
        "\n",
        "    return best_move\n",
        "\n",
        "# Fungsi evaluasi heuristik (contoh sederhana)\n",
        "def evaluate_board_heuristic(board, player):\n",
        "    \"\"\"\n",
        "    Fungsi evaluasi heuristik untuk papan catur.\n",
        "    Contoh sederhana: hitung nilai total material untuk pemain.\n",
        "    \"\"\"\n",
        "    piece_values = {\n",
        "        'P': 1,   # Pion\n",
        "        'N': 3,   # Kuda\n",
        "        'B': 3,   # Gajah\n",
        "        'R': 5,   # Benteng\n",
        "        'Q': 9,   # Ratu\n",
        "        'K': 0    # Raja (tidak memiliki nilai numerik di heuristik sederhana)\n",
        "    }\n",
        "    # Hitung nilai total material untuk kedua pemain\n",
        "    white_score = 0\n",
        "    black_score = 0\n",
        "\n",
        "    for row in board:\n",
        "        for piece in row:\n",
        "            if piece.isupper():  # Bidak putih\n",
        "                white_score += piece_values.get(piece.upper(), 0)\n",
        "            elif piece.islower():  # Bidak hitam\n",
        "                black_score += piece_values.get(piece.upper(), 0)\n",
        "\n",
        "    # Nilai heuristik adalah selisih nilai material, diutamakan untuk pemain saat ini\n",
        "    return white_score - black_score if player == 'white' else black_score - white_score\n",
        "\n",
        "# Contoh penggunaan\n",
        "if __name__ == \"__main__\":\n",
        "    # Representasi papan catur (contoh sederhana, sesuaikan dengan implementasi sebenarnya)\n",
        "    initial_board = [\n",
        "        ['r', 'n', 'b', 'q', 'k', 'b', 'n', 'r'],\n",
        "        ['p', 'p', 'p', 'p', 'p', 'p', 'p', 'p'],\n",
        "        [' ', ' ', ' ', ' ', ' ', ' ', ' ', ' '],\n",
        "        [' ', ' ', ' ', ' ', ' ', ' ', ' ', ' '],\n",
        "        [' ', ' ', ' ', ' ', ' ', ' ', ' ', ' '],\n",
        "        [' ', ' ', ' ', ' ', ' ', ' ', ' ', ' '],\n",
        "        ['P', 'P', 'P', 'P', 'P', 'P', 'P', 'P'],\n",
        "        ['R', 'N', 'B', 'Q', 'K', 'B', 'N', 'R']\n",
        "    ]\n",
        "\n",
        "    current_player = 'white'\n",
        "    depth = 4  # Batas kedalaman untuk pencarian\n",
        "\n",
        "    while not is_game_over(initial_board):\n",
        "        print(\"Papan saat ini:\")\n",
        "        for row in initial_board:\n",
        "            print(' '.join(row))\n",
        "        print()\n",
        "\n",
        "        if current_player == 'white':\n",
        "            print(\"Giliran Putih:\")\n",
        "        else:\n",
        "            print(\"Giliran Hitam:\")\n",
        "\n",
        "        best_move = find_best_chess_move(initial_board, current_player, depth)\n",
        "        if best_move:\n",
        "            from_pos, to_pos = best_move\n",
        "            from_row, from_col = from_pos\n",
        "            to_row, to_col = to_pos\n",
        "            print(f\"Pemain {current_player} memilih langkah dari {chr(97+from_col)}{8-from_row} ke {chr(97+to_col)}{8-to_row}\")\n",
        "            initial_board = make_chess_move(initial_board, best_move, current_player)\n",
        "        else:\n",
        "            print(f\"Tidak ada langkah yang mungkin untuk pemain {current_player}\")\n",
        "            break\n",
        "\n",
        "        # Ganti pemain\n",
        "        current_player = get_opponent(current_player)\n",
        "\n",
        "    # Tampilkan hasil akhir\n",
        "    print(\"Permainan selesai!\")\n",
        "    for row in initial_board:\n",
        "        print(' '.join(row))\n",
        "    print()"
      ]
    },
    {
      "cell_type": "markdown",
      "metadata": {
        "id": "yMuQHIsZNQk4"
      },
      "source": [
        "## Inference Algorithms"
      ]
    },
    {
      "cell_type": "markdown",
      "metadata": {
        "id": "tR6QllArZbLb"
      },
      "source": [
        "### Pengertian"
      ]
    },
    {
      "cell_type": "markdown",
      "metadata": {
        "id": "ER8tA3guZkPp"
      },
      "source": [
        "Inference algorithms adalah metode untuk menarik kesimpulan baru dari fakta dan aturan yang ada, biasanya digunakan pada sistem pakar berbasis aturan (rule-based)."
      ]
    },
    {
      "cell_type": "markdown",
      "metadata": {
        "id": "AUCfOrpvZcs6"
      },
      "source": [
        "### Ciri-ciri"
      ]
    },
    {
      "cell_type": "markdown",
      "metadata": {
        "id": "iWqfMSeYZnnE"
      },
      "source": [
        "- Menggunakan aturan IF-THEN (jika-maka).\n",
        "- Tipe utama: forward chaining (maju) dan backward chaining (mundur).\n",
        "- Sering dipakai di sistem pakar dan reasoning AI."
      ]
    },
    {
      "cell_type": "markdown",
      "metadata": {
        "id": "V2vv1O_aZd24"
      },
      "source": [
        "### Tujuan"
      ]
    },
    {
      "cell_type": "markdown",
      "metadata": {
        "id": "XyXcT6qfZoUg"
      },
      "source": [
        "- Menghasilkan keputusan otomatis berdasarkan pengetahuan yang ada.\n",
        "- Digunakan pada diagnosa, sistem pakar, chatbot, dsb."
      ]
    },
    {
      "cell_type": "markdown",
      "metadata": {
        "id": "01purbGVZgPx"
      },
      "source": [
        "### Kelebihan"
      ]
    },
    {
      "cell_type": "markdown",
      "metadata": {
        "id": "Eui21zleZrDC"
      },
      "source": [
        "- Cocok untuk masalah kompleks berbasis aturan.\n",
        "- Pengetahuan dapat dikembangkan dan diperbarui."
      ]
    },
    {
      "cell_type": "markdown",
      "metadata": {
        "id": "xoggNyn5ZhMi"
      },
      "source": [
        "### Kekurangan"
      ]
    },
    {
      "cell_type": "markdown",
      "metadata": {
        "id": "FOC0VgXAZtr-"
      },
      "source": [
        "- Kurang efisien jika aturan sangat banyak.\n",
        "- Sulit menangani ketidakpastian tanpa ekstensi probabilistik."
      ]
    },
    {
      "cell_type": "markdown",
      "metadata": {
        "id": "ECT0_N9ZZiCV"
      },
      "source": [
        "### Contoh Code"
      ]
    },
    {
      "cell_type": "code",
      "execution_count": null,
      "metadata": {
        "id": "mVCJw9Q2aIFJ",
        "colab": {
          "base_uri": "https://localhost:8080/"
        },
        "outputId": "7404c45d-ce85-41f6-fe4a-1f4a77d4a7c5"
      },
      "outputs": [
        {
          "output_type": "stream",
          "name": "stdout",
          "text": [
            "Masukkan fakta awal (pisahkan dengan koma, contoh: A,B): D, F\n",
            "Fakta awal: {'F', 'D'}\n",
            "Karena punya D, dapat E\n",
            "Semua fakta yang diperoleh: ['D', 'E', 'F']\n"
          ]
        }
      ],
      "source": [
        "# Daftar aturan berbentuk (premis, konklusi)\n",
        "rules = [\n",
        "    (\"A\", \"B\"),\n",
        "    (\"B\", \"C\"),\n",
        "    (\"C\", \"D\"),\n",
        "    (\"D\", \"E\"),\n",
        "    (\"E\", \"F\"),\n",
        "]\n",
        "\n",
        "# Fakta awal dari user (bisa lebih dari satu)\n",
        "initial_facts = input(\"Masukkan fakta awal (pisahkan dengan koma, contoh: A,B): \")\n",
        "facts = set(f.strip().upper() for f in initial_facts.split(\",\") if f.strip())\n",
        "\n",
        "print(\"Fakta awal:\", facts)\n",
        "\n",
        "# Proses forward chaining\n",
        "while True:\n",
        "    applied = False\n",
        "    for premise, conclusion in rules:\n",
        "        if premise in facts and conclusion not in facts:\n",
        "            print(f\"Karena punya {premise}, dapat {conclusion}\")\n",
        "            facts.add(conclusion)\n",
        "            applied = True\n",
        "    if not applied:\n",
        "        break\n",
        "\n",
        "print(\"Semua fakta yang diperoleh:\", sorted(facts))"
      ]
    },
    {
      "cell_type": "markdown",
      "metadata": {
        "id": "XoAxfq0SNT3X"
      },
      "source": [
        "## Model Checking"
      ]
    },
    {
      "cell_type": "markdown",
      "source": [
        "### Pengertian"
      ],
      "metadata": {
        "id": "t6tet1qG97G1"
      }
    },
    {
      "cell_type": "markdown",
      "source": [
        "Model checking adalah metode otomatis untuk memverifikasi apakah suatu model sistem sesuai dengan spesifikasi tertentu, digunakan pada sistem kritis seperti perangkat lunak pesawat terbang dan protokol komunikasi."
      ],
      "metadata": {
        "id": "bLTGgiIR-Ljv"
      }
    },
    {
      "cell_type": "markdown",
      "source": [
        "### Ciri-ciri"
      ],
      "metadata": {
        "id": "IBhrS0X3980n"
      }
    },
    {
      "cell_type": "markdown",
      "source": [
        "- Memerlukan model formal dari sistem.\n",
        "- Mengecek semua kemungkinan keadaan (state space).\n",
        "- Umumnya menggunakan logika temporal untuk spesifikasi perilaku."
      ],
      "metadata": {
        "id": "zy6lgt6a-Qxg"
      }
    },
    {
      "cell_type": "markdown",
      "source": [
        "### Tujuan"
      ],
      "metadata": {
        "id": "I0BYjbsG-AIi"
      }
    },
    {
      "cell_type": "markdown",
      "source": [
        "- Menjamin sistem berjalan sesuai spesifikasi.\n",
        "- Menemukan bug logika sebelum sistem dijalankan."
      ],
      "metadata": {
        "id": "c5D9mv_K-Y2r"
      }
    },
    {
      "cell_type": "markdown",
      "source": [
        "### Kelebihan"
      ],
      "metadata": {
        "id": "snPsBy-J-Ctd"
      }
    },
    {
      "cell_type": "markdown",
      "source": [
        "- Otomatis dan menyeluruh.\n",
        "- Bisa menemukan bug tersembunyi."
      ],
      "metadata": {
        "id": "IBMLSNr8-dZ0"
      }
    },
    {
      "cell_type": "markdown",
      "source": [
        "### Kekurangan"
      ],
      "metadata": {
        "id": "ZiiSZ-Yj-EYA"
      }
    },
    {
      "cell_type": "markdown",
      "source": [
        "- Masalah state explosion (jumlah state sangat besar).\n",
        "- Perlu pemodelan formal yang cukup rumit."
      ],
      "metadata": {
        "id": "mAIchhGs-fHF"
      }
    },
    {
      "cell_type": "markdown",
      "source": [
        "### Contoh Code"
      ],
      "metadata": {
        "id": "2kSusB8_-Frh"
      }
    },
    {
      "cell_type": "code",
      "source": [
        "from itertools import product\n",
        "\n",
        "def eval_formula(model):\n",
        "    # model: dictionary {'A': True, 'B': False}\n",
        "    A = model['A']\n",
        "    B = model['B']\n",
        "    return (A or B) and (not A or B)\n",
        "\n",
        "# Semua kemungkinan nilai A, B\n",
        "variables = ['A', 'B']\n",
        "models = list(product([False, True], repeat=len(variables)))\n",
        "\n",
        "print(\"Hasil model checking:\")\n",
        "for assignment in models:\n",
        "    model = dict(zip(variables, assignment))\n",
        "    result = eval_formula(model)\n",
        "    print(f\"Model: {model}, Formula terpenuhi? {result}\")"
      ],
      "metadata": {
        "colab": {
          "base_uri": "https://localhost:8080/"
        },
        "id": "dqVQdLU0-8vK",
        "outputId": "e02e54c4-389a-4c92-d982-93f7d3073e0a"
      },
      "execution_count": null,
      "outputs": [
        {
          "output_type": "stream",
          "name": "stdout",
          "text": [
            "Hasil model checking:\n",
            "Model: {'A': False, 'B': False}, Formula terpenuhi? False\n",
            "Model: {'A': False, 'B': True}, Formula terpenuhi? True\n",
            "Model: {'A': True, 'B': False}, Formula terpenuhi? False\n",
            "Model: {'A': True, 'B': True}, Formula terpenuhi? True\n"
          ]
        }
      ]
    },
    {
      "cell_type": "markdown",
      "metadata": {
        "id": "cd3srYjbNWPs"
      },
      "source": [
        "## Knowledge Engineering"
      ]
    },
    {
      "cell_type": "markdown",
      "source": [
        "### Pengertian"
      ],
      "metadata": {
        "id": "_iDl2UVp_5gg"
      }
    },
    {
      "cell_type": "markdown",
      "source": [
        "Knowledge engineering adalah proses mengumpulkan, memodelkan, dan mengimplementasikan pengetahuan manusia ke dalam sistem komputer, biasanya untuk sistem pakar."
      ],
      "metadata": {
        "id": "74t3m8UlAC_6"
      }
    },
    {
      "cell_type": "markdown",
      "source": [
        "### Ciri-ciri"
      ],
      "metadata": {
        "id": "xObjoon2_7Qf"
      }
    },
    {
      "cell_type": "markdown",
      "source": [
        "- Melibatkan akuisisi pengetahuan dari manusia ahli.\n",
        "- Pengetahuan direpresentasikan dalam bentuk aturan, fakta, atau ontologi.\n",
        "- Fokus pada representasi dan pemanfaatan pengetahuan."
      ],
      "metadata": {
        "id": "0XVTAwT0ALaY"
      }
    },
    {
      "cell_type": "markdown",
      "source": [
        "### Tujuan"
      ],
      "metadata": {
        "id": "XqiWAApP_818"
      }
    },
    {
      "cell_type": "markdown",
      "source": [
        "- Membuat sistem AI yang bisa mengambil keputusan seperti manusia ahli.\n",
        "- Mempermudah pengambilan keputusan dalam bidang tertentu."
      ],
      "metadata": {
        "id": "RxRMYwRtAY0v"
      }
    },
    {
      "cell_type": "markdown",
      "source": [
        "### Kelebihan"
      ],
      "metadata": {
        "id": "zbPfnxP3_98H"
      }
    },
    {
      "cell_type": "markdown",
      "source": [
        "- Dapat menggantikan peran ahli di bidang tertentu.\n",
        "- Pengetahuan bisa dipelihara dan diperbarui."
      ],
      "metadata": {
        "id": "EZJbMRXzAbT-"
      }
    },
    {
      "cell_type": "markdown",
      "source": [
        "### Kekurangan"
      ],
      "metadata": {
        "id": "NFcNwj3qAAql"
      }
    },
    {
      "cell_type": "markdown",
      "source": [
        "- Akuisisi pengetahuan dari ahli bisa sulit dan lama.\n",
        "- Pengetahuan bisa cepat usang jika tidak dipelihara."
      ],
      "metadata": {
        "id": "rGdLRJuwAdQy"
      }
    },
    {
      "cell_type": "markdown",
      "source": [
        "### Contoh Code"
      ],
      "metadata": {
        "id": "9sKmpwHwABmG"
      }
    },
    {
      "cell_type": "code",
      "source": [
        "def diagnosis(symptom):\n",
        "    print(f\"Gejala yang dimasukkan: {symptom}\")\n",
        "    if symptom == \"demam\":\n",
        "        print(\"Diagnosis: Flu\")\n",
        "        return \"Flu\"\n",
        "    elif symptom == \"batuk\":\n",
        "        print(\"Diagnosis: Pilek\")\n",
        "        return \"Pilek\"\n",
        "    else:\n",
        "        print(\"Diagnosis: Tidak diketahui\")\n",
        "        return \"Tidak diketahui\"\n",
        "\n",
        "diagnosis(\"demam\")\n",
        "diagnosis(\"batuk\")\n",
        "diagnosis(\"mual\")"
      ],
      "metadata": {
        "colab": {
          "base_uri": "https://localhost:8080/",
          "height": 139
        },
        "id": "6kQPcKkEBWbA",
        "outputId": "76aca130-7677-4054-ec1b-467ceb3a5f7a"
      },
      "execution_count": null,
      "outputs": [
        {
          "output_type": "stream",
          "name": "stdout",
          "text": [
            "Gejala yang dimasukkan: demam\n",
            "Diagnosis: Flu\n",
            "Gejala yang dimasukkan: batuk\n",
            "Diagnosis: Pilek\n",
            "Gejala yang dimasukkan: mual\n",
            "Diagnosis: Tidak diketahui\n"
          ]
        },
        {
          "output_type": "execute_result",
          "data": {
            "text/plain": [
              "'Tidak diketahui'"
            ],
            "application/vnd.google.colaboratory.intrinsic+json": {
              "type": "string"
            }
          },
          "metadata": {},
          "execution_count": 8
        }
      ]
    },
    {
      "cell_type": "markdown",
      "metadata": {
        "id": "wXf2O7eyZQXH"
      },
      "source": [
        "## Logic Puzzle - Harry Potter"
      ]
    },
    {
      "cell_type": "markdown",
      "source": [
        "### Pengertian"
      ],
      "metadata": {
        "id": "oYjSY-JFBnr2"
      }
    },
    {
      "cell_type": "markdown",
      "source": [
        "Logic puzzles adalah teka-teki yang mengharuskan pemecahnya menggunakan penalaran logis. Contohnya di Harry Potter adalah \"Potion Riddle\" di mana pemain harus menentukan botol aman berdasarkan petunjuk logika."
      ],
      "metadata": {
        "id": "5_0LrfmXBymK"
      }
    },
    {
      "cell_type": "markdown",
      "source": [
        "### Ciri-ciri"
      ],
      "metadata": {
        "id": "A7DX3MeTBpR_"
      }
    },
    {
      "cell_type": "markdown",
      "source": [
        "- Terdapat sejumlah fakta/petunjuk dan variabel yang harus diisi.\n",
        "- Solusi hanya bisa dicapai dengan deduksi logis.\n",
        "- Ada constraint yang saling berkaitan."
      ],
      "metadata": {
        "id": "Qhli4MONB16w"
      }
    },
    {
      "cell_type": "markdown",
      "source": [
        "### Tujuan"
      ],
      "metadata": {
        "id": "1QfyPdgqBrWf"
      }
    },
    {
      "cell_type": "markdown",
      "source": [
        "- Melatih kemampuan berpikir logis.\n",
        "- Menguji algoritma reasoning dalam AI."
      ],
      "metadata": {
        "id": "fhOcpE66B66i"
      }
    },
    {
      "cell_type": "markdown",
      "source": [
        "### Kelebihan"
      ],
      "metadata": {
        "id": "_fIdHHxPBs1d"
      }
    },
    {
      "cell_type": "markdown",
      "source": [
        "- Melatih dan menguji kemampuan penalaran.\n",
        "- Menarik dan menantang."
      ],
      "metadata": {
        "id": "btPkEb3AB7ZR"
      }
    },
    {
      "cell_type": "markdown",
      "source": [
        "### Kekurangan"
      ],
      "metadata": {
        "id": "wRDYNwFmBup5"
      }
    },
    {
      "cell_type": "markdown",
      "source": [
        "- Tidak semua masalah nyata bisa dimodelkan sebagai logic puzzle.\n",
        "- Bisa menjadi sangat sulit jika constraint banyak."
      ],
      "metadata": {
        "id": "wiJ0BM1DB9Nw"
      }
    },
    {
      "cell_type": "markdown",
      "source": [
        "### Contoh Code"
      ],
      "metadata": {
        "id": "rksdOcUkBv_u"
      }
    },
    {
      "cell_type": "code",
      "source": [
        "# Ada 3 botol: satu racun, satu wine, satu air.\n",
        "# Petunjuk: Botol 1 di sebelah air. Botol 3 bukan racun.\n",
        "\n",
        "bottles = [\"?\", \"?\", \"?\"]\n",
        "bottles[1] = \"air\"  # Misal sudah diketahui dari petunjuk lain\n",
        "bottles[2] = \"wine\"  # Karena botol 3 bukan racun\n",
        "bottles[0] = \"racun\"  # Sisa botol 1 adalah racun\n",
        "print(\"Isi botol:\", bottles)"
      ],
      "metadata": {
        "colab": {
          "base_uri": "https://localhost:8080/"
        },
        "id": "zNKNN6ntCAbI",
        "outputId": "2ebceaec-7312-4988-fdff-ec1eda7ee4cc"
      },
      "execution_count": null,
      "outputs": [
        {
          "output_type": "stream",
          "name": "stdout",
          "text": [
            "Isi botol: ['racun', 'air', 'wine']\n"
          ]
        }
      ]
    }
  ],
  "metadata": {
    "colab": {
      "collapsed_sections": [
        "JhJyaUy7NGks",
        "2OmoObgIN9on",
        "dXUZ_Tx0OEmx",
        "C_cSga9hOKLW",
        "lbKvOg-7OM9T",
        "C2wD5dJyOOoH",
        "A126dJg3NJe_",
        "kXboEQEgQ7XD",
        "dXUcCDl2Q80z",
        "bjTLa6MOQ-AP",
        "kpIELntfQ_UU",
        "a-rfgzVBRAgU",
        "Z-F_felKRCqs",
        "2SywQ5KfNM14",
        "tI9CPTOGXvoJ",
        "E9eCyOUDXw3s",
        "T3awZKMRXx9D",
        "Sos2b2IPX0VP",
        "wDd8D5xtX15i",
        "mxRnFboKX2uz",
        "yMuQHIsZNQk4",
        "tR6QllArZbLb",
        "AUCfOrpvZcs6",
        "V2vv1O_aZd24",
        "01purbGVZgPx",
        "xoggNyn5ZhMi",
        "XoAxfq0SNT3X",
        "t6tet1qG97G1",
        "IBhrS0X3980n",
        "I0BYjbsG-AIi",
        "snPsBy-J-Ctd",
        "ZiiSZ-Yj-EYA",
        "2kSusB8_-Frh",
        "cd3srYjbNWPs",
        "9sKmpwHwABmG",
        "wXf2O7eyZQXH",
        "rksdOcUkBv_u"
      ],
      "provenance": []
    },
    "kernelspec": {
      "display_name": "Python 3",
      "name": "python3"
    },
    "language_info": {
      "name": "python"
    }
  },
  "nbformat": 4,
  "nbformat_minor": 0
}