{
  "nbformat": 4,
  "nbformat_minor": 0,
  "metadata": {
    "colab": {
      "provenance": [],
      "collapsed_sections": [
        "to2QOQNU-NcR",
        "0Vdwt5hBqHgD",
        "QsSiiR7WsJIH",
        "vEczr4GAqzvP",
        "OlzEthBntc7-",
        "mf4Z0mZOupK3",
        "lrgjWh_PvKJ9",
        "VL0yND4aDeuq",
        "GAs2G1AlEGIP",
        "n571FzfpEwCn",
        "vuFcl2LWFi2R",
        "KzVKn1nBGfhm",
        "VeKYzLWNG7Ia",
        "19gV2yCqHmKF",
        "ws2aHvFmH9YQ",
        "klSJ9R4EIj11",
        "jMsYjjBGIy2s",
        "Zxsu_ZE-E9oy",
        "gGuX95E9KGPh",
        "vS4cWNjYKxrs",
        "MkX-G18yLeiB",
        "nbBdWklyLyVo",
        "N2RUk1YfKyuY",
        "KyC0GaBwMgI-",
        "gTDbLJ0NM6oO",
        "0O-KKpYRNPzT",
        "5jwowp2dOWal",
        "PDLHDrlbOjOz",
        "7EqyLMbYOyUH",
        "WR_t5OB4O-Ek",
        "UmeLm8eOPHby",
        "WPam0fqbFFAE",
        "DAOeOVX3QHam",
        "t6jKcDIkQhrb",
        "WXwcx_mPRONN",
        "oTNoHHIiRd4V",
        "ks9XY2JHRpEy",
        "i5bsefPEFG3m",
        "sYm1FHhzSSSE",
        "EiO7kpzpSqGY",
        "2UTnYhwUTBC2",
        "Xg-XxofxTR55",
        "JBW17y9aTccR",
        "AnthEZ15-Sfb",
        "SIX5Efx3Vgko",
        "JF2FfEuwVue5",
        "_5wBAaAjW9eu",
        "hWpuaPBBXF_v",
        "oDkZAxMgXNgd",
        "lkWW6NWRXV92",
        "Su4Kb3ToXdmW",
        "_zV-i_ucXx_p"
      ]
    },
    "kernelspec": {
      "name": "python3",
      "display_name": "Python 3"
    },
    "language_info": {
      "name": "python"
    }
  },
  "cells": [
    {
      "cell_type": "markdown",
      "source": [
        "# Artificial Intelligence"
      ],
      "metadata": {
        "id": "to2QOQNU-NcR"
      }
    },
    {
      "cell_type": "markdown",
      "source": [
        "## Apa itu Artificial Intelligence?"
      ],
      "metadata": {
        "id": "0Vdwt5hBqHgD"
      }
    },
    {
      "cell_type": "markdown",
      "source": [
        "**Artificial Intelligence** (AI) atau kecerdasan buatan adalah cabang ilmu komputer yang berfokus pada pembuatan sistem atau mesin yang dapat meniru kecerdasan manusia, seperti berpikir, belajar, mengambil keputusan, dan memecahkan masalah.AI memungkinkan komputer untuk melakukan tugas yang biasanya memerlukan kecerdasan manusia, seperti pengolahan bahasa alami (NLP), penglihatan komputer (computer vision), dan pengenalan suara. AI digunakan dalam berbagai bidang, termasuk kesehatan, otomotif, keuangan, dan banyak lagi.\n",
        "\n"
      ],
      "metadata": {
        "id": "9wpj_UqnsccB"
      }
    },
    {
      "cell_type": "markdown",
      "source": [
        "## Kenapa Python cocok untuk Artificial Intelligence (AI)?"
      ],
      "metadata": {
        "id": "QsSiiR7WsJIH"
      }
    },
    {
      "cell_type": "markdown",
      "source": [
        "**Python** adalah salah satu bahasa pemrograman yang paling banyak digunakan untuk **Artificial Intelligence** (AI). Ada beberapa alasan utama mengapa Python menjadi pilihan utama:\n",
        "\n",
        "1. **Lebih Sedikit Kode** : Python memiliki banyak pustaka (library) yang sudah tersedia, sehingga kita tidak perlu menulis kode dari nol. Ini juga membantu mengurangi kesalahan saat coding.\n",
        "\n",
        "2. **Banyak Library Siap Pakai** : Python memiliki ratusan pustaka seperti NumPy, TensorFlow, dan PyTorch yang mempermudah penerapan AI.\n",
        "\n",
        "3. **Mudah Dipelajari** : Sintaksis Python sederhana, sehingga mudah dipahami bahkan oleh pemula.\n",
        "\n",
        "4. **Bisa Digunakan di Banyak Platform** : Python dapat dijalankan di berbagai sistem operasi seperti Windows, macOS, dan Linux.\n",
        "\n",
        "5. **Dukungan Komunitas yang Besar** : Python memiliki komunitas pengguna yang luas yang selalu siap membantu saat ada kendala."
      ],
      "metadata": {
        "id": "PAKfeCBIqcVx"
      }
    },
    {
      "cell_type": "markdown",
      "source": [
        "## Library Python yang Sering Digunakan dalam AI"
      ],
      "metadata": {
        "id": "vEczr4GAqzvP"
      }
    },
    {
      "cell_type": "markdown",
      "source": [
        "1. **TensorFlow** : Library buatan Google untuk Machine Learning dan Neural Networks.\n",
        "\n",
        "2. **Scikit-Learn** : Library yang sangat berguna untuk analisis data dan Machine Learning.\n",
        "\n",
        "3. **NumPy** : Digunakan untuk perhitungan data yang kompleks.\n",
        "\n",
        "4. **Keras** : Membantu dalam pembuatan dan pelatihan model AI berbasis Neural Networks.\n",
        "\n",
        "5. **NLTK** : Digunakan untuk pemrosesan bahasa alami (Natural Language Processing)."
      ],
      "metadata": {
        "id": "6itsYLU5q7mH"
      }
    },
    {
      "cell_type": "markdown",
      "source": [
        "## Mengapa AI semakin Populer?"
      ],
      "metadata": {
        "id": "OlzEthBntc7-"
      }
    },
    {
      "cell_type": "markdown",
      "source": [
        "AI mengalami perkembangan pesat dalam beberapa tahun terakhir karena beberapa faktor utama :\n",
        "\n",
        "1. **Peningkatan Daya Komputasi** : Dengan hadirnya GPU (Graphics Processing Unit), AI dapat menangani perhitungan kompleks lebih cepat dan efisien. Ini sangat penting karena membangun model AI membutuhkan banyak sumber daya komputasi.\n",
        "\n",
        "2. **Melimpahnya Data** : Setiap hari, manusia menghasilkan jumlah data yang sangat besar. AI membutuhkan data ini untuk belajar, mengidentifikasi pola, dan membuat prediksi yang lebih akurat.\n",
        "\n",
        "3. **Algoritma yang Semakin Canggih** : Perkembangan teknologi seperti Deep Neural Networks memungkinkan AI menyelesaikan tugas yang lebih kompleks dengan hasil yang lebih baik dibandingkan metode sebelumnya.\n",
        "\n",
        "4. **Munculnya Large Language Models** (LLM) : Model AI seperti GPT dapat memahami dan menghasilkan teks seperti manusia. Teknologi ini digunakan dalam chatbot, penerjemahan bahasa, dan pembuatan konten otomatis.\n",
        "\n",
        "5. **Investasi Besar dari Perusahaan Teknologi** : Perusahaan seperti Tesla, Netflix, dan Facebook berinvestasi besar dalam AI, yang mempercepat pengembangannya dan meningkatkan adopsi di berbagai industri.\n",
        "\n",
        "6. **Dampak Besar pada Dunia Kerja** : AI digunakan di berbagai bidang seperti kesehatan, keuangan, dan sumber daya manusia untuk mengurangi kesalahan, meningkatkan efisiensi, dan mengotomatisasi tugas-tugas rutin."
      ],
      "metadata": {
        "id": "-5gpg3Notgr3"
      }
    },
    {
      "cell_type": "markdown",
      "source": [
        "## Jenis-Jenis Artificial Intelligence (AI)"
      ],
      "metadata": {
        "id": "mf4Z0mZOupK3"
      }
    },
    {
      "cell_type": "markdown",
      "source": [
        "AI dibagi menjadi tiga tahap perkembangan utama :\n",
        "\n",
        "1. **Artificial Narrow Intelligence** (ANI): Dikenal sebagai Weak AI, hanya bisa melakukan tugas tertentu, misalnya asisten virtual (Alexa, Siri), mobil otonom, dan Google Search.\n",
        "\n",
        "2. **Artificial General Intelligence** (AGI): Dikenal sebagai Strong AI, memiliki kemampuan berpikir layaknya manusia. Hingga saat ini, AGI masih dalam tahap penelitian.\n",
        "\n",
        "3. **Artificial Super Intelligence** (ASI): Merupakan AI yang melampaui kecerdasan manusia. ASI masih bersifat hipotetis dan banyak dibahas dalam film fiksi ilmiah."
      ],
      "metadata": {
        "id": "g9AaAhT8ux-C"
      }
    },
    {
      "cell_type": "markdown",
      "source": [
        "## Perbedaan AI, Machine Learning, dan Deep Learning"
      ],
      "metadata": {
        "id": "lrgjWh_PvKJ9"
      }
    },
    {
      "cell_type": "markdown",
      "source": [
        "1. **Artificial Intelligence** (AI) adalah konsep umum yang mencakup semua teknik untuk membuat mesin lebih cerdas.\n",
        "\n",
        "2. **Machine Learning** (ML) adalah cabang dari AI yang memungkinkan mesin belajar dari data tanpa perlu diprogram secara eksplisit.\n",
        "\n",
        "3. **Deep Learning** (DL) adalah bagian dari ML yang menggunakan jaringan saraf tiruan untuk menangani tugas-tugas yang lebih kompleks."
      ],
      "metadata": {
        "id": "SIx_z0LlvLT5"
      }
    },
    {
      "cell_type": "markdown",
      "source": [
        "# Machine Learning"
      ],
      "metadata": {
        "id": "xYoK5BAE-Zdf"
      }
    },
    {
      "cell_type": "markdown",
      "source": [
        "## Latar Belakang"
      ],
      "metadata": {
        "id": "VL0yND4aDeuq"
      }
    },
    {
      "cell_type": "markdown",
      "source": [
        "Pembelajaran Mesin semakin banyak diterapkan di berbagai industri dan memanfaatkan berbagai algoritma untuk mengembangkan model yang canggih. Algoritma ini dikategorikan ke dalam beberapa jenis, masing-masing disesuaikan dengan tugas dan jenis data yang berbeda. Seiring dengan meningkatnya volume data dan kemajuan komputasi, Pembelajaran Mesin menjadi semakin penting dalam membantu pengambilan keputusan, otomatisasi proses, serta meningkatkan efisiensi dan akurasi dalam berbagai bidang, mulai dari kesehatan hingga keuangan dan teknologi."
      ],
      "metadata": {
        "id": "NNa2KSgmDvgS"
      }
    },
    {
      "cell_type": "markdown",
      "source": [
        "## Pengertian Machine Learning"
      ],
      "metadata": {
        "id": "GAs2G1AlEGIP"
      }
    },
    {
      "cell_type": "markdown",
      "source": [
        "Pembelajaran Mesin adalah cabang ilmu komputer yang memungkinkan komputer belajar dari data dan membuat keputusan tanpa diprogram secara eksplisit untuk tugas tertentu. Proses ini melibatkan pemberian sejumlah besar data ke sistem, yang kemudian digunakan untuk mempelajari pola dan menjalankan berbagai fungsi, seperti pengenalan wajah, pemrosesan ucapan, atau rekomendasi film."
      ],
      "metadata": {
        "id": "snIzic5vEIBg"
      }
    },
    {
      "cell_type": "markdown",
      "source": [
        "## Jenis-Jenis Teknik Machine Learning"
      ],
      "metadata": {
        "id": "g8CVgTwtEevy"
      }
    },
    {
      "cell_type": "markdown",
      "source": [
        "### Supervised Learning"
      ],
      "metadata": {
        "id": "n571FzfpEwCn"
      }
    },
    {
      "cell_type": "markdown",
      "source": [
        "**Supervised Learning** adalah metode dalam Machine Learning di mana model dilatih menggunakan kumpulan data berlabel, yang berisi pasangan input dan output. Setiap input memiliki output yang sesuai (label), dan tugas model adalah memahami pola dari data tersebut sehingga bisa membuat prediksi pada data baru yang belum pernah dilihat sebelumnya."
      ],
      "metadata": {
        "id": "h2CKjCz2FTkF"
      }
    },
    {
      "cell_type": "markdown",
      "source": [
        "#### Example Supervised Learning"
      ],
      "metadata": {
        "id": "vuFcl2LWFi2R"
      }
    },
    {
      "cell_type": "markdown",
      "source": [
        "**Memprediksi Harga Rumah** : Kita ingin memprediksi harga rumah berdasarkan berbagai fitur seperti ukuran, lokasi, dan jumlah kamar tidur. Model akan belajar dari data historis yang berisi informasi rumah sebelumnya beserta harga jualnya, sehingga bisa memprediksi harga rumah baru yang masuk ke pasar."
      ],
      "metadata": {
        "id": "fgit729MFqTF"
      }
    },
    {
      "cell_type": "markdown",
      "source": [
        "#### Categories of Supervised Learning"
      ],
      "metadata": {
        "id": "KzVKn1nBGfhm"
      }
    },
    {
      "cell_type": "markdown",
      "source": [
        "##### Regresi"
      ],
      "metadata": {
        "id": "VeKYzLWNG7Ia"
      }
    },
    {
      "cell_type": "markdown",
      "source": [
        "Digunakan ketika output yang diprediksi berbentuk nilai numerik, seperti harga atau suhu."
      ],
      "metadata": {
        "id": "tXB7bSqnG_BN"
      }
    },
    {
      "cell_type": "markdown",
      "source": [
        "Contoh Regresi :\n",
        "1. **Linear Regression** (Regresi Linier Sederhana)\n",
        "2. **Multivariate Regression** (Regresi Multivariat)\n",
        "3. **Decision Tree** (Pohon Keputusan)\n",
        "4. **Lasso Regression** (Regresi Lasso)"
      ],
      "metadata": {
        "id": "vMNqudgBHHfj"
      }
    },
    {
      "cell_type": "markdown",
      "source": [
        "##### Classification"
      ],
      "metadata": {
        "id": "19gV2yCqHmKF"
      }
    },
    {
      "cell_type": "markdown",
      "source": [
        "Digunakan ketika output adalah kategori, misalnya membedakan antara email spam dan non-spam."
      ],
      "metadata": {
        "id": "mF-VRu7-Hp8_"
      }
    },
    {
      "cell_type": "markdown",
      "source": [
        "Contoh Classification :\n",
        "1. **Random Forest**\n",
        "2. **Decision Tree**\n",
        "3. **Logistic Regression**\n",
        "4. **Support Vector Machine** (SVM)"
      ],
      "metadata": {
        "id": "jv261gqxHsQj"
      }
    },
    {
      "cell_type": "markdown",
      "source": [
        "#### Advantages of Supervised Learning"
      ],
      "metadata": {
        "id": "ws2aHvFmH9YQ"
      }
    },
    {
      "cell_type": "markdown",
      "source": [
        "1. **Akurat & Efektif** : Model dapat membuat prediksi berdasarkan data sebelumnya\n",
        "2. **Mudah Dipahami** : Konsepnya cukup sederhana dan mudah diterapkan.\n",
        "3. **Evaluasi yang Jelas** : Karena datanya berlabel, performa model bisa diukur dengan mudah.\n",
        "3. **Dapat Digunakan di Berbagai Bidang** : Mulai dari keuangan, kesehatan, hingga pemasaran.\n",
        "4. **Identifikasi Fitur Penting** : Membantu memahami faktor mana yang paling berpengaruh dalam prediksi."
      ],
      "metadata": {
        "id": "Zr83PEGCITXG"
      }
    },
    {
      "cell_type": "markdown",
      "source": [
        "#### Disadvantages of Supervised Learning"
      ],
      "metadata": {
        "id": "klSJ9R4EIj11"
      }
    },
    {
      "cell_type": "markdown",
      "source": [
        "1. **Bergantung pada Data Berlabel** : Membutuhkan banyak data berlabel, yang bisa mahal dan sulit diperoleh.\n",
        "2. **Overfitting** : Model bisa terlalu menyesuaikan data pelatihan, sehingga tidak bekerja dengan baik pada data baru.\n",
        "3. **Kurang Fleksibel** : Jika data pelatihan tidak cukup mewakili dunia nyata, model bisa kesulitan menggeneralisasi ke data baru."
      ],
      "metadata": {
        "id": "DnzGv6f7Iljp"
      }
    },
    {
      "cell_type": "markdown",
      "source": [
        "#### Applications of Supervised Learning"
      ],
      "metadata": {
        "id": "jMsYjjBGIy2s"
      }
    },
    {
      "cell_type": "markdown",
      "source": [
        "1. **Kesehatan** : Memprediksi penyakit berdasarkan gejala dan riwayat medis pasien.\n",
        "2. **Keuangan** : Digunakan dalam penilaian kredit dan prediksi harga saham.\n",
        "3. **Ritel & E-Commerce** : Memprediksi tren penjualan, merekomendasikan produk, dan personalisasi pemasaran.\n",
        "4. **Kendaraan Otonom** : Mengenali rambu lalu lintas dan mendeteksi pejalan kaki.\n",
        "5. **Pengenalan Ucapan** : Digunakan dalam asisten virtual seperti Siri dan layanan transkripsi."
      ],
      "metadata": {
        "id": "jVnROBC9Ixa5"
      }
    },
    {
      "cell_type": "markdown",
      "source": [
        "### Unsupervised Learning"
      ],
      "metadata": {
        "id": "Zxsu_ZE-E9oy"
      }
    },
    {
      "cell_type": "markdown",
      "source": [
        "**Unsupervised Learning** adalah jenis Machine Learning yang bekerja dengan data tanpa label untuk menemukan pola tersembunyi dalam data tersebut. Berbeda dengan Supervised Learning yang memiliki pasangan input dan output yang jelas, metode ini berusaha mengenali struktur dalam data secara langsung tanpa panduan eksplisit."
      ],
      "metadata": {
        "id": "2G2fL-aXJ0Wu"
      }
    },
    {
      "cell_type": "markdown",
      "source": [
        "#### Example Unsupervised Learning"
      ],
      "metadata": {
        "id": "gGuX95E9KGPh"
      }
    },
    {
      "cell_type": "markdown",
      "source": [
        "**Clustering** (Pengelompokan) : Teknik ini mengelompokkan data menjadi beberapa subset (cluster) berdasarkan kesamaan tertentu. Misalnya, sebuah perusahaan dapat menggunakan metode clustering untuk mengelompokkan pelanggan berdasarkan perilaku belanja mereka tanpa harus mengetahui sebelumnya karakteristik setiap kelompok pelanggan."
      ],
      "metadata": {
        "id": "N0VOl4iXKIa4"
      }
    },
    {
      "cell_type": "markdown",
      "source": [
        "#### Categories of Unsupervised Learning"
      ],
      "metadata": {
        "id": "vS4cWNjYKxrs"
      }
    },
    {
      "cell_type": "markdown",
      "source": [
        "##### Clustering (Pengelompokan Data)"
      ],
      "metadata": {
        "id": "MkX-G18yLeiB"
      }
    },
    {
      "cell_type": "markdown",
      "source": [
        "Mengelompokkan data dengan karakteristik yang mirip dalam satu kelompok."
      ],
      "metadata": {
        "id": "RLAMAZ28LhtQ"
      }
    },
    {
      "cell_type": "markdown",
      "source": [
        "Contoh Clustering :\n",
        "1. **K-Means Clustering**\n",
        "2. **Hierarchical Clustering**\n",
        "3. **DBSCAN (Density-Based Spatial Clustering of Applications with Noise)**"
      ],
      "metadata": {
        "id": "aU1zRu_8LjLj"
      }
    },
    {
      "cell_type": "markdown",
      "source": [
        "##### Association (Asosiasi)"
      ],
      "metadata": {
        "id": "nbBdWklyLyVo"
      }
    },
    {
      "cell_type": "markdown",
      "source": [
        "Menganalisis hubungan antar variabel dalam kumpulan data besar untuk menemukan pola yang sering muncul."
      ],
      "metadata": {
        "id": "v0uLRBqJLzzP"
      }
    },
    {
      "cell_type": "markdown",
      "source": [
        "Contoh Clustering :\n",
        "1. **Apriori Algorithm**\n",
        "2. **Eclat Algorithm**\n",
        "3. **FP-Growth Algorithm**"
      ],
      "metadata": {
        "id": "iNut1fXDL1v7"
      }
    },
    {
      "cell_type": "markdown",
      "source": [
        "##### **Dimensionality Reduction** (Reduksi Dimensi)"
      ],
      "metadata": {
        "id": "N2RUk1YfKyuY"
      }
    },
    {
      "cell_type": "markdown",
      "source": [
        "Mengurangi jumlah variabel dalam data tanpa kehilangan informasi penting."
      ],
      "metadata": {
        "id": "qNvvd13lK8_8"
      }
    },
    {
      "cell_type": "markdown",
      "source": [
        "Contoh Clustering :\n",
        "1. Principal Component Analysis (PCA)\n",
        "2. t-SNE (t-Distributed Stochastic Neighbor Embedding)\n",
        "\n",
        "Berguna dalam menyederhanakan data kompleks agar lebih mudah dianalisis."
      ],
      "metadata": {
        "id": "ecgmJrvFLCvp"
      }
    },
    {
      "cell_type": "markdown",
      "source": [
        "#### Advantages of Unsupervised Learning"
      ],
      "metadata": {
        "id": "KyC0GaBwMgI-"
      }
    },
    {
      "cell_type": "markdown",
      "source": [
        "1. **Menemukan Pola Tersembunyi** : Dapat mengidentifikasi pola yang tidak langsung terlihat dalam data.\n",
        "2. **Tidak Membutuhkan Data Berlabel** : Berguna dalam kasus di mana mendapatkan label untuk data sangat mahal atau tidak praktis.\n",
        "3. **Mengurangi Kompleksitas Data** : Membantu menyederhanakan data sehingga lebih mudah dipahami.\n",
        "4. **Menemukan Fitur Penting** : Dapat mengidentifikasi fitur yang relevan untuk meningkatkan kinerja model pembelajaran terbimbing.\n",
        "5. **Fleksibel terhadap Perubahan Data** : Karena tidak bergantung pada label, model ini dapat menyesuaikan diri dengan perubahan data lebih mudah."
      ],
      "metadata": {
        "id": "9lKbWoJ0Mhk9"
      }
    },
    {
      "cell_type": "markdown",
      "source": [
        "#### Disadvantages of Unsupervised Learning"
      ],
      "metadata": {
        "id": "gTDbLJ0NM6oO"
      }
    },
    {
      "cell_type": "markdown",
      "source": [
        "1. **Sulit diinterpretasikan** : Hasil analisis sering kali lebih abstrak dibanding pembelajaran terbimbing.\n",
        "2. **Bergantung pada Kualitas Data** : Jika data awalnya tidak bagus, hasil yang diperoleh juga bisa kurang akurat.\n",
        "3. **Tidak Memiliki Tujuan yang Jelas** : Karena tidak diarahkan untuk tugas spesifik seperti prediksi, wawasan yang dihasilkan bisa kurang langsung dapat diterapkan."
      ],
      "metadata": {
        "id": "8nK3O3ZCM_lt"
      }
    },
    {
      "cell_type": "markdown",
      "source": [
        "#### Applications of Unsupervised Learning"
      ],
      "metadata": {
        "id": "0O-KKpYRNPzT"
      }
    },
    {
      "cell_type": "markdown",
      "source": [
        "1. **Segmentasi Pelanggan** : Perusahaan mengelompokkan pelanggan untuk strategi pemasaran yang lebih efektif.\n",
        "2. **Deteksi Anomali** : Digunakan dalam keamanan jaringan dan deteksi penipuan untuk menemukan aktivitas mencurigakan.\n",
        "3. **Sistem Rekomendasi** : Membantu membangun sistem rekomendasi seperti saran film di Netflix atau produk di e-commerce.\n",
        "4. **Ekstraksi Fitur** : Digunakan dalam preprocessing data untuk meningkatkan model prediktif.\n",
        "5. **Segmentasi Gambar** : Dalam visi komputer, dipakai untuk membagi gambar menjadi bagian-bagian yang lebih mudah dianalisis."
      ],
      "metadata": {
        "id": "52BYjyzPNQr-"
      }
    },
    {
      "cell_type": "markdown",
      "source": [
        "### Reinforcement Learning"
      ],
      "metadata": {
        "id": "xavF16g3FCH8"
      }
    },
    {
      "cell_type": "markdown",
      "source": [
        "**Reinforcement Learning** (RL) adalah cabang pembelajaran mesin di mana sebuah agen belajar mengambil keputusan dengan mencoba berbagai tindakan dan menerima umpan balik berupa reward (hadiah) atau penalty (hukuman). Tujuan utamanya adalah memaksimalkan total reward yang diperoleh dalam jangka panjang. Konsep ini mirip dengan cara manusia belajar dari pengalaman—mencoba sesuatu, melihat hasilnya, lalu menyesuaikan strategi."
      ],
      "metadata": {
        "id": "eONmJn6wOQ_W"
      }
    },
    {
      "cell_type": "markdown",
      "source": [
        "#### Example of Reinforcement Learning"
      ],
      "metadata": {
        "id": "5jwowp2dOWal"
      }
    },
    {
      "cell_type": "markdown",
      "source": [
        "Contoh dalam Permainan Catur:\n",
        "- Agen (AI catur) akan mencoba berbagai langkah dalam permainan.\n",
        "- Jika berhasil menangkap bidak lawan, ia mendapatkan reward.\n",
        "- Jika kehilangan bidak atau kalah, ia mendapatkan penalty.\n",
        "- Seiring waktu, agen belajar memilih langkah terbaik untuk memenangkan permainan."
      ],
      "metadata": {
        "id": "t0l6ZEtKOYeP"
      }
    },
    {
      "cell_type": "markdown",
      "source": [
        "#### Categories of Reinforcement Learning"
      ],
      "metadata": {
        "id": "PDLHDrlbOjOz"
      }
    },
    {
      "cell_type": "markdown",
      "source": [
        "1. **Model-Based RL** : Agen membuat model lingkungan untuk memprediksi hasil sebelum bertindak.\n",
        "2. **Model-Free RL** : Agen langsung belajar dari pengalaman tanpa membuat model lingkungan, seperti Q-Learning.\n",
        "3. **Partially Observable RL** : Agen hanya memiliki informasi terbatas tentang lingkungan dan harus membuat perkiraan."
      ],
      "metadata": {
        "id": "Mu_Ikpt1OnBI"
      }
    },
    {
      "cell_type": "markdown",
      "source": [
        "#### Advantages of Reinforcement Learning"
      ],
      "metadata": {
        "id": "7EqyLMbYOyUH"
      }
    },
    {
      "cell_type": "markdown",
      "source": [
        "1. **Adaptif** : Bisa menyesuaikan diri dengan perubahan lingkungan.\n",
        "2. **Belajar Mandiri** : Tidak membutuhkan aturan eksplisit, cukup dengan sistem reward dan penalty.\n",
        "3. **Berkembang Seiring Waktu** : Semakin banyak pengalaman, semakin baik keputusan yang diambil.\n",
        "4. **Cocok untuk Masalah Kompleks** : Dapat digunakan untuk menyelesaikan masalah dengan banyak kemungkinan tindakan dan hasil."
      ],
      "metadata": {
        "id": "Xuf_ze-MOzYA"
      }
    },
    {
      "cell_type": "markdown",
      "source": [
        "#### Disadvantages of Reinforcement Learning"
      ],
      "metadata": {
        "id": "WR_t5OB4O-Ek"
      }
    },
    {
      "cell_type": "markdown",
      "source": [
        "1. **Bergantung pada Desain Reward** : Jika sistem reward tidak dirancang dengan baik, agen bisa belajar perilaku yang tidak diinginkan.\n",
        "2. **Butuh Banyak Sumber Daya** : Memerlukan komputasi tinggi dan waktu pelatihan yang lama.\n",
        "3. **Kurang Efisien dalam Pengambilan Sampel** : Butuh banyak percobaan sebelum agen benar-benar memahami strategi terbaik."
      ],
      "metadata": {
        "id": "LSAmU52JO-1C"
      }
    },
    {
      "cell_type": "markdown",
      "source": [
        "#### Application of Reinforcement Learning"
      ],
      "metadata": {
        "id": "UmeLm8eOPHby"
      }
    },
    {
      "cell_type": "markdown",
      "source": [
        "1. **Mobil Otonom** : Membantu mobil belajar menavigasi jalan secara aman.\n",
        "2. **Robotika** : Digunakan dalam pengembangan robot yang bisa belajar bergerak dan berinteraksi.\n",
        "3. **AI dalam Game** : Meningkatkan kecerdasan lawan dalam permainan komputer.\n",
        "4.  **Keuangan** : Digunakan dalam sistem perdagangan saham untuk menentukan waktu terbaik dalam jual-beli saham.\n",
        "5. **Kesehatan** : Membantu dalam perencanaan pengobatan yang lebih efektif berdasarkan data"
      ],
      "metadata": {
        "id": "ManQGtf1PIJD"
      }
    },
    {
      "cell_type": "markdown",
      "source": [
        "### Semi-Supervised Learning"
      ],
      "metadata": {
        "id": "WPam0fqbFFAE"
      }
    },
    {
      "cell_type": "markdown",
      "source": [
        "**Semi-Supervised Learning** adalah metode pembelajaran mesin yang menggabungkan sedikit data berlabel dengan banyak data tanpa label. Pendekatan ini berada di antara supervised learning (semua data memiliki label) dan unsupervised learning (tidak ada label)."
      ],
      "metadata": {
        "id": "GsdD8J_zQE3g"
      }
    },
    {
      "cell_type": "markdown",
      "source": [
        "#### Example of Semi-Supervised Learning"
      ],
      "metadata": {
        "id": "DAOeOVX3QHam"
      }
    },
    {
      "cell_type": "markdown",
      "source": [
        "**Klasifikasi Halaman Web** : Misalnya, kita hanya memiliki beberapa halaman web yang telah dikategorikan sebagai Olahraga, Berita, atau Teknologi, sementara ada banyak halaman lain yang belum dikategorikan."
      ],
      "metadata": {
        "id": "9Uq6noOxQJs4"
      }
    },
    {
      "cell_type": "markdown",
      "source": [
        "#### Categories of Semi-Supervised Learning"
      ],
      "metadata": {
        "id": "t6jKcDIkQhrb"
      }
    },
    {
      "cell_type": "markdown",
      "source": [
        "1. **Self-training** : melibatkan pelatihan model dengan sedikit data berlabel, lalu digunakan untuk memprediksi data tanpa label. Prediksi yang paling yakin kemudian ditambahkan ke dataset sebagai contoh berlabel baru.\n",
        "2. **Co-training** : digunakan ketika ada dua set fitur berbeda dalam data, di mana dua model dibuat. Setiap model melatih model lainnya dengan menambahkan label ke data yang sebelumnya tidak berlabel.\n",
        "3. **Transductive learning** : berfokus pada prediksi label hanya untuk dataset tertentu yang tidak berlabel, bukan untuk data baru di masa depan.\n",
        "4. **Graph-based** : melihat hubungan antara data berlabel dan tidak berlabel dalam bentuk graf, lalu menyebarkan informasi label melalui hubungan tersebut."
      ],
      "metadata": {
        "id": "a9jrVKq4QkSY"
      }
    },
    {
      "cell_type": "markdown",
      "source": [
        "#### Advantages of Semi-Supervised Learning"
      ],
      "metadata": {
        "id": "WXwcx_mPRONN"
      }
    },
    {
      "cell_type": "markdown",
      "source": [
        "1. **Efisiensi** : Menghemat waktu dan biaya karena tidak memerlukan banyak data berlabel.\n",
        "2. **Meningkatkan Akurasi** : Memanfaatkan data tanpa label untuk membuat model lebih akurat.\n",
        "3. **Lebih Fleksibel** : Bisa digunakan di banyak bidang yang sulit mendapatkan data berlabel.\n",
        "4. **Generalisasi Lebih Baik** : Membantu model memahami pola data secara lebih menyeluruh."
      ],
      "metadata": {
        "id": "_-Q-lROuRSKV"
      }
    },
    {
      "cell_type": "markdown",
      "source": [
        "#### Disadvantages of Semi-Supervised Learning"
      ],
      "metadata": {
        "id": "oTNoHHIiRd4V"
      }
    },
    {
      "cell_type": "markdown",
      "source": [
        "1. **Kesalahan Bisa Menyebar** : Jika model awal memberi label yang salah, kesalahan ini bisa menyebar ke seluruh dataset.\n",
        "2. **Bergantung pada Asumsi** : Misalnya, model mengasumsikan bahwa data yang mirip memiliki label yang sama, tapi asumsi ini tidak selalu benar.\n",
        "3. **Lebih Kompleks** : Proses pelatihannya lebih sulit dibanding supervised learning biasa."
      ],
      "metadata": {
        "id": "ChDdQAUGRgPf"
      }
    },
    {
      "cell_type": "markdown",
      "source": [
        "#### Application of Semi-Supervised Learning"
      ],
      "metadata": {
        "id": "ks9XY2JHRpEy"
      }
    },
    {
      "cell_type": "markdown",
      "source": [
        "1. **Natural Language Processing** (NLP) : Menganalisis sentimen atau topik dari teks meskipun data berlabel sedikit.\n",
        "2. **Pengenalan Gambar** : Berguna dalam bidang medis, misalnya untuk mengklasifikasikan gambar hasil scan pasien.\n",
        "3. **Klasifikasi Konten Web** : Membantu mengelompokkan artikel atau postingan ke dalam kategori tertentu.\n",
        "4. **Analisis Suara** : Digunakan dalam sistem pengenalan suara karena label suara sulit diperoleh.\n",
        "5. **Biologi & Farmasi** : Digunakan dalam penelitian protein atau obat baru di mana data berlabel sangat terbatas."
      ],
      "metadata": {
        "id": "4JYwJ9v2Rp1M"
      }
    },
    {
      "cell_type": "markdown",
      "source": [
        "### Self-Supervised Learning"
      ],
      "metadata": {
        "id": "i5bsefPEFG3m"
      }
    },
    {
      "cell_type": "markdown",
      "source": [
        "**Self-Supervised Learning** adalah jenis pembelajaran mesin di mana model dilatih tanpa data berlabel eksplisit dari manusia. Sebagai gantinya, model menghasilkan labelnya sendiri dengan memanfaatkan struktur atau konteks bawaan dalam data. Pendekatan ini termasuk dalam kategori pembelajaran tanpa pengawasan, tetapi berbeda karena menggunakan prediksinya sendiri sebagai supervisi."
      ],
      "metadata": {
        "id": "ARh3tVQKR4Ur"
      }
    },
    {
      "cell_type": "markdown",
      "source": [
        "#### Example of Self-Supervised Learning"
      ],
      "metadata": {
        "id": "sYm1FHhzSSSE"
      }
    },
    {
      "cell_type": "markdown",
      "source": [
        "Contohnya dalam pemrosesan bahasa alami:\n",
        "- Model seperti BERT dilatih dengan kalimat yang memiliki beberapa kata yang disembunyikan.\n",
        "- Model mencoba memprediksi kata yang hilang berdasarkan konteks kata lain dalam kalimat.\n",
        "- Seiring waktu, model memahami pola bahasa dan bisa digunakan untuk berbagai tugas NLP seperti penerjemahan dan analisis sentimen."
      ],
      "metadata": {
        "id": "0lgzaTRHScXP"
      }
    },
    {
      "cell_type": "markdown",
      "source": [
        "#### Categories of Self-Supervised Learning"
      ],
      "metadata": {
        "id": "EiO7kpzpSqGY"
      }
    },
    {
      "cell_type": "markdown",
      "source": [
        "1. **Generative SSL** : Model dilatih untuk merekonstruksi atau menghasilkan kembali bagian dari data yang hilang, misalnya model gambar yang memulihkan bagian gambar yang terhapus.\n",
        "2. **Contrastive SSL** : Model belajar dengan membandingkan pasangan data, misalnya dalam pengolahan gambar, model memahami bahwa dua tampilan berbeda dari objek yang sama lebih mirip dibandingkan dengan objek lainnya."
      ],
      "metadata": {
        "id": "TcV7faR1Sscq"
      }
    },
    {
      "cell_type": "markdown",
      "source": [
        "#### Advantages of Self-Supervised Learning"
      ],
      "metadata": {
        "id": "2UTnYhwUTBC2"
      }
    },
    {
      "cell_type": "markdown",
      "source": [
        "1. **Mengurangi Ketergantungan pada Data Berlabel** : Tidak memerlukan banyak data yang telah diberi label secara manual.\n",
        "2. **Generalization yang Lebih Baik** : Model dapat memahami pola data dan bekerja dengan lebih baik pada data yang belum pernah dilihat sebelumnya.\n",
        "3. **Fleksibel dan Skalabel** : Bisa diterapkan ke berbagai jenis data tanpa perlu anotasi khusus.\n",
        "4. **Fitur yang Lebih Kuat** : Model belajar representasi data yang lebih kaya dan dapat digunakan untuk berbagai tugas.\n",
        "5. **Efisiensi Data** : Memaksimalkan pemanfaatan data tanpa perlu supervisi manusia."
      ],
      "metadata": {
        "id": "q4qoiB8ITCOn"
      }
    },
    {
      "cell_type": "markdown",
      "source": [
        "Disadvantages of Self-Supervised Learning"
      ],
      "metadata": {
        "id": "Xg-XxofxTR55"
      }
    },
    {
      "cell_type": "markdown",
      "source": [
        "1. **Ketergantungan pada Kualitas Data** : Jika data berkualitas buruk atau tidak memiliki struktur yang jelas, model bisa gagal belajar.\n",
        "2. **Arsitektur Model yang Kompleks** : Membutuhkan model dan teknik pelatihan yang lebih canggih dibandingkan dengan pembelajaran yang diawasi.\n",
        "3. **Terbatas oleh Struktur Data** : Jika data tidak memiliki informasi yang cukup untuk dipelajari, model bisa kurang efektif."
      ],
      "metadata": {
        "id": "gFexCluLTSnX"
      }
    },
    {
      "cell_type": "markdown",
      "source": [
        "#### Application of Self-Supervised Learning"
      ],
      "metadata": {
        "id": "JBW17y9aTccR"
      }
    },
    {
      "cell_type": "markdown",
      "source": [
        "1. **Natural Language Processing** : Digunakan dalam model seperti BERT untuk tugas seperti penyelesaian kalimat dan penerjemahan.\n",
        "2. **Computer Vision** : Digunakan dalam klasifikasi gambar, deteksi objek, hingga analisis gambar medis.\n",
        "3. **Speech Recognition** : Membantu model memahami dan mentranskripsi ucapan dari data audio mentah.\n",
        "4. **Robotika** : Membantu robot belajar dari interaksi dengan lingkungan tanpa perlu supervisi manusia.\n",
        "5. **Deteksi Anomali** : Digunakan dalam keamanan siber dan deteksi penipuan dengan memahami pola data normal dan mengenali penyimpangan."
      ],
      "metadata": {
        "id": "Ki1GE3xnTdL6"
      }
    },
    {
      "cell_type": "markdown",
      "source": [
        "# Deep Learning"
      ],
      "metadata": {
        "id": "AnthEZ15-Sfb"
      }
    },
    {
      "cell_type": "markdown",
      "source": [
        "### Apa itu Deep Learning ?"
      ],
      "metadata": {
        "id": "SIX5Efx3Vgko"
      }
    },
    {
      "cell_type": "markdown",
      "source": [
        "Komputer hanya memahami angka, dan dalam Deep Learning, data perlu direpresentasikan dalam bentuk angka agar model dapat belajar. Proses ini melibatkan penggunaan aljabar linear, yang menjadi dasar dalam representasi dan perhitungan data dalam model deep learning.\n",
        "\n",
        "Aljabar linear berhubungan dengan operasi pada vektor, matriks, dan tensor, yang digunakan untuk menyusun dan memproses data dalam model deep learning."
      ],
      "metadata": {
        "id": "KcI6P96fVkFY"
      }
    },
    {
      "cell_type": "markdown",
      "source": [
        "### Peran Aljabar Linear dalam Deep Learning"
      ],
      "metadata": {
        "id": "JF2FfEuwVue5"
      }
    },
    {
      "cell_type": "markdown",
      "source": [
        "Dalam pengembangan model deep learning, aljabar linear digunakan dalam berbagai tahap, seperti :\n",
        "1. **Representasi Data dan Model** : Data yang digunakan dalam model deep learning dikonversi menjadi bentuk matriks atau tensor agar dapat diproses oleh algoritma.\n",
        "2. **Embeddings untuk NLP** : Dalam Natural Language Processing (NLP), setiap kata dapat direpresentasikan sebagai vektor dalam ruang dimensi tinggi. Teknik seperti word embeddings digunakan untuk mengubah kata-kata menjadi representasi numerik yang lebih efisien.\n",
        "3. **Reduksi Dimensi dengan Eigenvektor** : Teknik seperti Singular Value Decomposition (SVD) dan Principal Component Analysis (PCA) digunakan untuk mengurangi jumlah fitur tanpa kehilangan terlalu banyak informasi.\n",
        "\n",
        "Untuk lebih memahami bagaimana data direpresentasikan dalam deep learning, mari kita lihat bagaimana data diubah menjadi bentuk vektor."
      ],
      "metadata": {
        "id": "NCrm1nMPVveb"
      }
    },
    {
      "cell_type": "markdown",
      "source": [
        "#### Dari Data ke Vektor"
      ],
      "metadata": {
        "id": "_5wBAaAjW9eu"
      }
    },
    {
      "cell_type": "markdown",
      "source": [
        "Setiap elemen dalam dataset dapat direpresentasikan sebagai vektor. Misalnya, dalam analisis gambar, setiap piksel dalam gambar direpresentasikan sebagai angka dalam tensor, memungkinkan komputer untuk memahami dan mengolah gambar secara matematis.\n",
        "\n",
        "Selanjutnya, tensor memainkan peran penting dalam deep learning sebagai struktur data utama yang digunakan dalam jaringan saraf tiruan."
      ],
      "metadata": {
        "id": "v76x9m6GXCtZ"
      }
    },
    {
      "cell_type": "markdown",
      "source": [
        "#### Deep Learning dan Tensor"
      ],
      "metadata": {
        "id": "hWpuaPBBXF_v"
      }
    },
    {
      "cell_type": "markdown",
      "source": [
        "Dalam deep learning, tensor digunakan untuk mewakili dan mengolah data di dalam jaringan saraf tiruan (neural network). Semua operasi pada jaringan saraf, seperti propagasi maju (forward propagation) dan propagasi balik (backpropagation), melibatkan manipulasi tensor menggunakan aljabar linear.\n",
        "\n",
        "Namun, ketika data memiliki terlalu banyak fitur, perhitungan dapat menjadi sangat kompleks. Oleh karena itu, digunakan teknik reduksi dimensi untuk menyederhanakan representasi data."
      ],
      "metadata": {
        "id": "1HPG4uxCXIwA"
      }
    },
    {
      "cell_type": "markdown",
      "source": [
        "#### Reduksi Dimensi dalam Deep Learning"
      ],
      "metadata": {
        "id": "oDkZAxMgXNgd"
      }
    },
    {
      "cell_type": "markdown",
      "source": [
        "Dalam beberapa kasus, data memiliki banyak fitur yang bisa menyebabkan perhitungan menjadi lambat. Teknik seperti PCA digunakan untuk menemukan fitur baru yang merupakan kombinasi linear dari fitur asli, tetapi dengan jumlah yang lebih sedikit. Ini membantu dalam mengurangi kompleksitas komputasi sambil tetap mempertahankan informasi utama dalam data.\n",
        "\n",
        "Selain reduksi dimensi, ada juga teknik yang digunakan untuk memahami hubungan antar data, seperti dalam sistem rekomendasi."
      ],
      "metadata": {
        "id": "cwee33KDXPbw"
      }
    },
    {
      "cell_type": "markdown",
      "source": [
        "#### Penggunaan Embeddings dalam Rekomendasi"
      ],
      "metadata": {
        "id": "lkWW6NWRXV92"
      }
    },
    {
      "cell_type": "markdown",
      "source": [
        "Sistem rekomendasi, seperti yang digunakan dalam layanan streaming atau e-commerce, memanfaatkan vector embeddings untuk memahami preferensi pengguna. Misalnya, film dan pengguna dapat direpresentasikan dalam ruang vektor yang lebih kecil, di mana kesamaan antara pengguna dan film dapat dihitung menggunakan operasi matriks.\n",
        "\n",
        "Dengan berbagai manfaatnya, aljabar linear tidak hanya digunakan dalam pengembangan deep learning tetapi juga diterapkan di berbagai industri."
      ],
      "metadata": {
        "id": "YEI4vgLCXYfN"
      }
    },
    {
      "cell_type": "markdown",
      "source": [
        "### Peran Aljabar Linear dalam Berbagai Industri"
      ],
      "metadata": {
        "id": "Su4Kb3ToXdmW"
      }
    },
    {
      "cell_type": "markdown",
      "source": [
        "Karena aljabar linear sangat mendasar dalam deep learning, banyak industri yang menggunakannya untuk berbagai keperluan, seperti :"
      ],
      "metadata": {
        "id": "-ux_pg88Xhpi"
      }
    },
    {
      "cell_type": "markdown",
      "source": [
        "1. **Statistik dan Data Science** : Untuk analisis data, prediksi tren, dan pemodelan statistik.\n",
        "2. **Pemrosesan Gambar dan Visi Komputer** : Untuk deteksi objek, segmentasi gambar, dan pengenalan wajah.\n",
        "3. **Pengolahan Bahasa Alami** (NLP) : Untuk analisis teks, terjemahan otomatis, dan chatbot.\n",
        "4. **Robotika** : Untuk navigasi, pengenalan lingkungan, dan pengambilan keputusan otomatis.\n",
        "5. **Fisikawan Kuantum dan Genomika** : Untuk simulasi eksperimen dan analisis data biologis."
      ],
      "metadata": {
        "id": "dO0l2Mb_V9fV"
      }
    },
    {
      "cell_type": "markdown",
      "source": [
        "### Seberapa Banyak Aljabar Linear yang Perlu Dipahami?"
      ],
      "metadata": {
        "id": "_zV-i_ucXx_p"
      }
    },
    {
      "cell_type": "markdown",
      "source": [
        "Untuk mulai belajar deep learning, tidak perlu memahami seluruh teori aljabar linear secara mendalam. Cukup memahami konsep dasar seperti vektor, matriks, operasi matriks, dan transformasi linear. NumPy adalah salah satu pustaka Python yang sering digunakan untuk perhitungan ilmiah dan menyediakan fungsi-fungsi penting dalam aljabar linear, sehingga sangat membantu dalam implementasi deep learning."
      ],
      "metadata": {
        "id": "wqjOcjGjX0Wb"
      }
    }
  ]
}